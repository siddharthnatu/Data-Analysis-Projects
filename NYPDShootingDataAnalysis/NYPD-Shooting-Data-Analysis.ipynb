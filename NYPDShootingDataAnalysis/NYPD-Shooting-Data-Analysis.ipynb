{
 "cells": [
  {
   "cell_type": "code",
   "execution_count": 71,
   "metadata": {},
   "outputs": [],
   "source": [
    "import numpy as np\n",
    "import pandas as pd\n",
    "import matplotlib.pyplot as plt\n",
    "import seaborn as sns\n",
    "import datetime\n",
    "%matplotlib inline"
   ]
  },
  {
   "cell_type": "code",
   "execution_count": 72,
   "metadata": {},
   "outputs": [],
   "source": [
    "hdf = pd.read_csv('C:/Users/sidna/Downloads/NYPD_Shooting_Incident_Data__Historic__20240111.csv')\n",
    "ydf = pd.read_csv('C:/Users/sidna/Downloads/NYPD_Shooting_Incident_Data__Year_To_Date__20240111.csv')"
   ]
  },
  {
   "cell_type": "code",
   "execution_count": 73,
   "metadata": {
    "scrolled": true
   },
   "outputs": [
    {
     "data": {
      "text/html": [
       "<div>\n",
       "<style scoped>\n",
       "    .dataframe tbody tr th:only-of-type {\n",
       "        vertical-align: middle;\n",
       "    }\n",
       "\n",
       "    .dataframe tbody tr th {\n",
       "        vertical-align: top;\n",
       "    }\n",
       "\n",
       "    .dataframe thead th {\n",
       "        text-align: right;\n",
       "    }\n",
       "</style>\n",
       "<table border=\"1\" class=\"dataframe\">\n",
       "  <thead>\n",
       "    <tr style=\"text-align: right;\">\n",
       "      <th></th>\n",
       "      <th>INCIDENT_KEY</th>\n",
       "      <th>OCCUR_DATE</th>\n",
       "      <th>OCCUR_TIME</th>\n",
       "      <th>BORO</th>\n",
       "      <th>LOC_OF_OCCUR_DESC</th>\n",
       "      <th>PRECINCT</th>\n",
       "      <th>JURISDICTION_CODE</th>\n",
       "      <th>LOC_CLASSFCTN_DESC</th>\n",
       "      <th>LOCATION_DESC</th>\n",
       "      <th>STATISTICAL_MURDER_FLAG</th>\n",
       "      <th>...</th>\n",
       "      <th>PERP_SEX</th>\n",
       "      <th>PERP_RACE</th>\n",
       "      <th>VIC_AGE_GROUP</th>\n",
       "      <th>VIC_SEX</th>\n",
       "      <th>VIC_RACE</th>\n",
       "      <th>X_COORD_CD</th>\n",
       "      <th>Y_COORD_CD</th>\n",
       "      <th>Latitude</th>\n",
       "      <th>Longitude</th>\n",
       "      <th>Lon_Lat</th>\n",
       "    </tr>\n",
       "  </thead>\n",
       "  <tbody>\n",
       "    <tr>\n",
       "      <th>0</th>\n",
       "      <td>228798151</td>\n",
       "      <td>05/27/2021</td>\n",
       "      <td>21:30:00</td>\n",
       "      <td>QUEENS</td>\n",
       "      <td>NaN</td>\n",
       "      <td>105</td>\n",
       "      <td>0.0</td>\n",
       "      <td>NaN</td>\n",
       "      <td>NaN</td>\n",
       "      <td>False</td>\n",
       "      <td>...</td>\n",
       "      <td>NaN</td>\n",
       "      <td>NaN</td>\n",
       "      <td>18-24</td>\n",
       "      <td>M</td>\n",
       "      <td>BLACK</td>\n",
       "      <td>1.058925e+06</td>\n",
       "      <td>180924.000000</td>\n",
       "      <td>40.662965</td>\n",
       "      <td>-73.730839</td>\n",
       "      <td>POINT (-73.73083868899994 40.662964620000025)</td>\n",
       "    </tr>\n",
       "    <tr>\n",
       "      <th>1</th>\n",
       "      <td>137471050</td>\n",
       "      <td>06/27/2014</td>\n",
       "      <td>17:40:00</td>\n",
       "      <td>BRONX</td>\n",
       "      <td>NaN</td>\n",
       "      <td>40</td>\n",
       "      <td>0.0</td>\n",
       "      <td>NaN</td>\n",
       "      <td>NaN</td>\n",
       "      <td>False</td>\n",
       "      <td>...</td>\n",
       "      <td>NaN</td>\n",
       "      <td>NaN</td>\n",
       "      <td>18-24</td>\n",
       "      <td>M</td>\n",
       "      <td>BLACK</td>\n",
       "      <td>1.005028e+06</td>\n",
       "      <td>234516.000000</td>\n",
       "      <td>40.810352</td>\n",
       "      <td>-73.924942</td>\n",
       "      <td>POINT (-73.92494232599995 40.81035186300006)</td>\n",
       "    </tr>\n",
       "    <tr>\n",
       "      <th>2</th>\n",
       "      <td>147998800</td>\n",
       "      <td>11/21/2015</td>\n",
       "      <td>03:56:00</td>\n",
       "      <td>QUEENS</td>\n",
       "      <td>NaN</td>\n",
       "      <td>108</td>\n",
       "      <td>0.0</td>\n",
       "      <td>NaN</td>\n",
       "      <td>NaN</td>\n",
       "      <td>True</td>\n",
       "      <td>...</td>\n",
       "      <td>NaN</td>\n",
       "      <td>NaN</td>\n",
       "      <td>25-44</td>\n",
       "      <td>M</td>\n",
       "      <td>WHITE</td>\n",
       "      <td>1.007668e+06</td>\n",
       "      <td>209836.531250</td>\n",
       "      <td>40.742607</td>\n",
       "      <td>-73.915492</td>\n",
       "      <td>POINT (-73.91549174199997 40.74260663300004)</td>\n",
       "    </tr>\n",
       "    <tr>\n",
       "      <th>3</th>\n",
       "      <td>146837977</td>\n",
       "      <td>10/09/2015</td>\n",
       "      <td>18:30:00</td>\n",
       "      <td>BRONX</td>\n",
       "      <td>NaN</td>\n",
       "      <td>44</td>\n",
       "      <td>0.0</td>\n",
       "      <td>NaN</td>\n",
       "      <td>NaN</td>\n",
       "      <td>False</td>\n",
       "      <td>...</td>\n",
       "      <td>NaN</td>\n",
       "      <td>NaN</td>\n",
       "      <td>&lt;18</td>\n",
       "      <td>M</td>\n",
       "      <td>WHITE HISPANIC</td>\n",
       "      <td>1.006537e+06</td>\n",
       "      <td>244511.140625</td>\n",
       "      <td>40.837782</td>\n",
       "      <td>-73.919457</td>\n",
       "      <td>POINT (-73.91945661499994 40.83778200300003)</td>\n",
       "    </tr>\n",
       "    <tr>\n",
       "      <th>4</th>\n",
       "      <td>58921844</td>\n",
       "      <td>02/19/2009</td>\n",
       "      <td>22:58:00</td>\n",
       "      <td>BRONX</td>\n",
       "      <td>NaN</td>\n",
       "      <td>47</td>\n",
       "      <td>0.0</td>\n",
       "      <td>NaN</td>\n",
       "      <td>NaN</td>\n",
       "      <td>True</td>\n",
       "      <td>...</td>\n",
       "      <td>M</td>\n",
       "      <td>BLACK</td>\n",
       "      <td>45-64</td>\n",
       "      <td>M</td>\n",
       "      <td>BLACK</td>\n",
       "      <td>1.024922e+06</td>\n",
       "      <td>262189.406250</td>\n",
       "      <td>40.886238</td>\n",
       "      <td>-73.852910</td>\n",
       "      <td>POINT (-73.85290950899997 40.88623791800006)</td>\n",
       "    </tr>\n",
       "  </tbody>\n",
       "</table>\n",
       "<p>5 rows × 21 columns</p>\n",
       "</div>"
      ],
      "text/plain": [
       "   INCIDENT_KEY  OCCUR_DATE OCCUR_TIME    BORO LOC_OF_OCCUR_DESC  PRECINCT  \\\n",
       "0     228798151  05/27/2021   21:30:00  QUEENS               NaN       105   \n",
       "1     137471050  06/27/2014   17:40:00   BRONX               NaN        40   \n",
       "2     147998800  11/21/2015   03:56:00  QUEENS               NaN       108   \n",
       "3     146837977  10/09/2015   18:30:00   BRONX               NaN        44   \n",
       "4      58921844  02/19/2009   22:58:00   BRONX               NaN        47   \n",
       "\n",
       "   JURISDICTION_CODE LOC_CLASSFCTN_DESC LOCATION_DESC  \\\n",
       "0                0.0                NaN           NaN   \n",
       "1                0.0                NaN           NaN   \n",
       "2                0.0                NaN           NaN   \n",
       "3                0.0                NaN           NaN   \n",
       "4                0.0                NaN           NaN   \n",
       "\n",
       "   STATISTICAL_MURDER_FLAG  ... PERP_SEX PERP_RACE VIC_AGE_GROUP VIC_SEX  \\\n",
       "0                    False  ...      NaN       NaN         18-24       M   \n",
       "1                    False  ...      NaN       NaN         18-24       M   \n",
       "2                     True  ...      NaN       NaN         25-44       M   \n",
       "3                    False  ...      NaN       NaN           <18       M   \n",
       "4                     True  ...        M     BLACK         45-64       M   \n",
       "\n",
       "         VIC_RACE    X_COORD_CD     Y_COORD_CD   Latitude  Longitude  \\\n",
       "0           BLACK  1.058925e+06  180924.000000  40.662965 -73.730839   \n",
       "1           BLACK  1.005028e+06  234516.000000  40.810352 -73.924942   \n",
       "2           WHITE  1.007668e+06  209836.531250  40.742607 -73.915492   \n",
       "3  WHITE HISPANIC  1.006537e+06  244511.140625  40.837782 -73.919457   \n",
       "4           BLACK  1.024922e+06  262189.406250  40.886238 -73.852910   \n",
       "\n",
       "                                         Lon_Lat  \n",
       "0  POINT (-73.73083868899994 40.662964620000025)  \n",
       "1   POINT (-73.92494232599995 40.81035186300006)  \n",
       "2   POINT (-73.91549174199997 40.74260663300004)  \n",
       "3   POINT (-73.91945661499994 40.83778200300003)  \n",
       "4   POINT (-73.85290950899997 40.88623791800006)  \n",
       "\n",
       "[5 rows x 21 columns]"
      ]
     },
     "execution_count": 73,
     "metadata": {},
     "output_type": "execute_result"
    }
   ],
   "source": [
    "hdf.head()"
   ]
  },
  {
   "cell_type": "code",
   "execution_count": 74,
   "metadata": {},
   "outputs": [
    {
     "data": {
      "text/plain": [
       "(27312, 21)"
      ]
     },
     "execution_count": 74,
     "metadata": {},
     "output_type": "execute_result"
    }
   ],
   "source": [
    "hdf.shape"
   ]
  },
  {
   "cell_type": "code",
   "execution_count": 75,
   "metadata": {
    "scrolled": true
   },
   "outputs": [
    {
     "data": {
      "text/html": [
       "<div>\n",
       "<style scoped>\n",
       "    .dataframe tbody tr th:only-of-type {\n",
       "        vertical-align: middle;\n",
       "    }\n",
       "\n",
       "    .dataframe tbody tr th {\n",
       "        vertical-align: top;\n",
       "    }\n",
       "\n",
       "    .dataframe thead th {\n",
       "        text-align: right;\n",
       "    }\n",
       "</style>\n",
       "<table border=\"1\" class=\"dataframe\">\n",
       "  <thead>\n",
       "    <tr style=\"text-align: right;\">\n",
       "      <th></th>\n",
       "      <th>INCIDENT_KEY</th>\n",
       "      <th>OCCUR_DATE</th>\n",
       "      <th>OCCUR_TIME</th>\n",
       "      <th>BORO</th>\n",
       "      <th>LOC_OF_OCCUR_DESC</th>\n",
       "      <th>PRECINCT</th>\n",
       "      <th>JURISDICTION_CODE</th>\n",
       "      <th>LOC_CLASSFCTN_DESC</th>\n",
       "      <th>LOCATION_DESC</th>\n",
       "      <th>STATISTICAL_MURDER_FLAG</th>\n",
       "      <th>...</th>\n",
       "      <th>PERP_SEX</th>\n",
       "      <th>PERP_RACE</th>\n",
       "      <th>VIC_AGE_GROUP</th>\n",
       "      <th>VIC_SEX</th>\n",
       "      <th>VIC_RACE</th>\n",
       "      <th>X_COORD_CD</th>\n",
       "      <th>Y_COORD_CD</th>\n",
       "      <th>Latitude</th>\n",
       "      <th>Longitude</th>\n",
       "      <th>New Georeferenced Column</th>\n",
       "    </tr>\n",
       "  </thead>\n",
       "  <tbody>\n",
       "    <tr>\n",
       "      <th>0</th>\n",
       "      <td>265303128</td>\n",
       "      <td>03/18/2023</td>\n",
       "      <td>03:45:00</td>\n",
       "      <td>QUEENS</td>\n",
       "      <td>OUTSIDE</td>\n",
       "      <td>102</td>\n",
       "      <td>0</td>\n",
       "      <td>OTHER</td>\n",
       "      <td>HOSPITAL</td>\n",
       "      <td>N</td>\n",
       "      <td>...</td>\n",
       "      <td>M</td>\n",
       "      <td>BLACK</td>\n",
       "      <td>25-44</td>\n",
       "      <td>M</td>\n",
       "      <td>BLACK</td>\n",
       "      <td>1030953</td>\n",
       "      <td>194101</td>\n",
       "      <td>NaN</td>\n",
       "      <td>NaN</td>\n",
       "      <td>NaN</td>\n",
       "    </tr>\n",
       "    <tr>\n",
       "      <th>1</th>\n",
       "      <td>264075661</td>\n",
       "      <td>02/22/2023</td>\n",
       "      <td>16:55:00</td>\n",
       "      <td>BRONX</td>\n",
       "      <td>OUTSIDE</td>\n",
       "      <td>44</td>\n",
       "      <td>0</td>\n",
       "      <td>STREET</td>\n",
       "      <td>(null)</td>\n",
       "      <td>N</td>\n",
       "      <td>...</td>\n",
       "      <td>M</td>\n",
       "      <td>WHITE HISPANIC</td>\n",
       "      <td>25-44</td>\n",
       "      <td>M</td>\n",
       "      <td>WHITE HISPANIC</td>\n",
       "      <td>1004343</td>\n",
       "      <td>243407</td>\n",
       "      <td>40.834751</td>\n",
       "      <td>-73.927388</td>\n",
       "      <td>POINT (-73.927388 40.834751)</td>\n",
       "    </tr>\n",
       "    <tr>\n",
       "      <th>2</th>\n",
       "      <td>270760379</td>\n",
       "      <td>07/03/2023</td>\n",
       "      <td>21:25:00</td>\n",
       "      <td>BROOKLYN</td>\n",
       "      <td>OUTSIDE</td>\n",
       "      <td>75</td>\n",
       "      <td>0</td>\n",
       "      <td>STREET</td>\n",
       "      <td>(null)</td>\n",
       "      <td>N</td>\n",
       "      <td>...</td>\n",
       "      <td>M</td>\n",
       "      <td>BLACK</td>\n",
       "      <td>25-44</td>\n",
       "      <td>M</td>\n",
       "      <td>BLACK</td>\n",
       "      <td>1008769</td>\n",
       "      <td>177614</td>\n",
       "      <td>40.654153</td>\n",
       "      <td>-73.911632</td>\n",
       "      <td>POINT (-73.911632 40.654153)</td>\n",
       "    </tr>\n",
       "    <tr>\n",
       "      <th>3</th>\n",
       "      <td>265124475</td>\n",
       "      <td>03/14/2023</td>\n",
       "      <td>09:49:00</td>\n",
       "      <td>MANHATTAN</td>\n",
       "      <td>OUTSIDE</td>\n",
       "      <td>20</td>\n",
       "      <td>0</td>\n",
       "      <td>STREET</td>\n",
       "      <td>COMMERCIAL BLDG</td>\n",
       "      <td>N</td>\n",
       "      <td>...</td>\n",
       "      <td>M</td>\n",
       "      <td>BLACK</td>\n",
       "      <td>&lt;18</td>\n",
       "      <td>M</td>\n",
       "      <td>BLACK</td>\n",
       "      <td>988755</td>\n",
       "      <td>221899</td>\n",
       "      <td>40.775738</td>\n",
       "      <td>-73.983734</td>\n",
       "      <td>POINT (-73.983734 40.775738)</td>\n",
       "    </tr>\n",
       "    <tr>\n",
       "      <th>4</th>\n",
       "      <td>266761946</td>\n",
       "      <td>04/15/2023</td>\n",
       "      <td>15:46:00</td>\n",
       "      <td>MANHATTAN</td>\n",
       "      <td>INSIDE</td>\n",
       "      <td>32</td>\n",
       "      <td>0</td>\n",
       "      <td>DWELLING</td>\n",
       "      <td>MULTI DWELL - APT BUILD</td>\n",
       "      <td>N</td>\n",
       "      <td>...</td>\n",
       "      <td>(null)</td>\n",
       "      <td>(null)</td>\n",
       "      <td>25-44</td>\n",
       "      <td>M</td>\n",
       "      <td>WHITE HISPANIC</td>\n",
       "      <td>1000980</td>\n",
       "      <td>239318</td>\n",
       "      <td>40.823533</td>\n",
       "      <td>-73.939551</td>\n",
       "      <td>POINT (-73.939551 40.823533)</td>\n",
       "    </tr>\n",
       "  </tbody>\n",
       "</table>\n",
       "<p>5 rows × 21 columns</p>\n",
       "</div>"
      ],
      "text/plain": [
       "   INCIDENT_KEY  OCCUR_DATE OCCUR_TIME       BORO LOC_OF_OCCUR_DESC  PRECINCT  \\\n",
       "0     265303128  03/18/2023   03:45:00     QUEENS           OUTSIDE       102   \n",
       "1     264075661  02/22/2023   16:55:00      BRONX           OUTSIDE        44   \n",
       "2     270760379  07/03/2023   21:25:00   BROOKLYN           OUTSIDE        75   \n",
       "3     265124475  03/14/2023   09:49:00  MANHATTAN           OUTSIDE        20   \n",
       "4     266761946  04/15/2023   15:46:00  MANHATTAN            INSIDE        32   \n",
       "\n",
       "   JURISDICTION_CODE LOC_CLASSFCTN_DESC            LOCATION_DESC  \\\n",
       "0                  0              OTHER                 HOSPITAL   \n",
       "1                  0             STREET                   (null)   \n",
       "2                  0             STREET                   (null)   \n",
       "3                  0             STREET          COMMERCIAL BLDG   \n",
       "4                  0           DWELLING  MULTI DWELL - APT BUILD   \n",
       "\n",
       "  STATISTICAL_MURDER_FLAG  ... PERP_SEX       PERP_RACE VIC_AGE_GROUP VIC_SEX  \\\n",
       "0                       N  ...        M           BLACK         25-44       M   \n",
       "1                       N  ...        M  WHITE HISPANIC         25-44       M   \n",
       "2                       N  ...        M           BLACK         25-44       M   \n",
       "3                       N  ...        M           BLACK           <18       M   \n",
       "4                       N  ...   (null)          (null)         25-44       M   \n",
       "\n",
       "         VIC_RACE X_COORD_CD  Y_COORD_CD   Latitude  Longitude  \\\n",
       "0           BLACK    1030953      194101        NaN        NaN   \n",
       "1  WHITE HISPANIC    1004343      243407  40.834751 -73.927388   \n",
       "2           BLACK    1008769      177614  40.654153 -73.911632   \n",
       "3           BLACK     988755      221899  40.775738 -73.983734   \n",
       "4  WHITE HISPANIC    1000980      239318  40.823533 -73.939551   \n",
       "\n",
       "       New Georeferenced Column  \n",
       "0                           NaN  \n",
       "1  POINT (-73.927388 40.834751)  \n",
       "2  POINT (-73.911632 40.654153)  \n",
       "3  POINT (-73.983734 40.775738)  \n",
       "4  POINT (-73.939551 40.823533)  \n",
       "\n",
       "[5 rows x 21 columns]"
      ]
     },
     "execution_count": 75,
     "metadata": {},
     "output_type": "execute_result"
    }
   ],
   "source": [
    "ydf.head()"
   ]
  },
  {
   "cell_type": "code",
   "execution_count": 76,
   "metadata": {},
   "outputs": [],
   "source": [
    "ydf.rename(columns = {'New Georeferenced Column':'Lon_Lat'}, inplace = True)"
   ]
  },
  {
   "cell_type": "code",
   "execution_count": 77,
   "metadata": {},
   "outputs": [
    {
     "data": {
      "text/plain": [
       "(991, 21)"
      ]
     },
     "execution_count": 77,
     "metadata": {},
     "output_type": "execute_result"
    }
   ],
   "source": [
    "ydf.shape"
   ]
  },
  {
   "cell_type": "code",
   "execution_count": 78,
   "metadata": {},
   "outputs": [],
   "source": [
    "df = pd.concat([hdf, ydf])"
   ]
  },
  {
   "cell_type": "code",
   "execution_count": 79,
   "metadata": {},
   "outputs": [
    {
     "data": {
      "text/html": [
       "<div>\n",
       "<style scoped>\n",
       "    .dataframe tbody tr th:only-of-type {\n",
       "        vertical-align: middle;\n",
       "    }\n",
       "\n",
       "    .dataframe tbody tr th {\n",
       "        vertical-align: top;\n",
       "    }\n",
       "\n",
       "    .dataframe thead th {\n",
       "        text-align: right;\n",
       "    }\n",
       "</style>\n",
       "<table border=\"1\" class=\"dataframe\">\n",
       "  <thead>\n",
       "    <tr style=\"text-align: right;\">\n",
       "      <th></th>\n",
       "      <th>INCIDENT_KEY</th>\n",
       "      <th>OCCUR_DATE</th>\n",
       "      <th>OCCUR_TIME</th>\n",
       "      <th>BORO</th>\n",
       "      <th>LOC_OF_OCCUR_DESC</th>\n",
       "      <th>PRECINCT</th>\n",
       "      <th>JURISDICTION_CODE</th>\n",
       "      <th>LOC_CLASSFCTN_DESC</th>\n",
       "      <th>LOCATION_DESC</th>\n",
       "      <th>STATISTICAL_MURDER_FLAG</th>\n",
       "      <th>...</th>\n",
       "      <th>PERP_SEX</th>\n",
       "      <th>PERP_RACE</th>\n",
       "      <th>VIC_AGE_GROUP</th>\n",
       "      <th>VIC_SEX</th>\n",
       "      <th>VIC_RACE</th>\n",
       "      <th>X_COORD_CD</th>\n",
       "      <th>Y_COORD_CD</th>\n",
       "      <th>Latitude</th>\n",
       "      <th>Longitude</th>\n",
       "      <th>Lon_Lat</th>\n",
       "    </tr>\n",
       "  </thead>\n",
       "  <tbody>\n",
       "    <tr>\n",
       "      <th>0</th>\n",
       "      <td>228798151</td>\n",
       "      <td>05/27/2021</td>\n",
       "      <td>21:30:00</td>\n",
       "      <td>QUEENS</td>\n",
       "      <td>NaN</td>\n",
       "      <td>105</td>\n",
       "      <td>0.0</td>\n",
       "      <td>NaN</td>\n",
       "      <td>NaN</td>\n",
       "      <td>False</td>\n",
       "      <td>...</td>\n",
       "      <td>NaN</td>\n",
       "      <td>NaN</td>\n",
       "      <td>18-24</td>\n",
       "      <td>M</td>\n",
       "      <td>BLACK</td>\n",
       "      <td>1.058925e+06</td>\n",
       "      <td>180924.000000</td>\n",
       "      <td>40.662965</td>\n",
       "      <td>-73.730839</td>\n",
       "      <td>POINT (-73.73083868899994 40.662964620000025)</td>\n",
       "    </tr>\n",
       "    <tr>\n",
       "      <th>1</th>\n",
       "      <td>137471050</td>\n",
       "      <td>06/27/2014</td>\n",
       "      <td>17:40:00</td>\n",
       "      <td>BRONX</td>\n",
       "      <td>NaN</td>\n",
       "      <td>40</td>\n",
       "      <td>0.0</td>\n",
       "      <td>NaN</td>\n",
       "      <td>NaN</td>\n",
       "      <td>False</td>\n",
       "      <td>...</td>\n",
       "      <td>NaN</td>\n",
       "      <td>NaN</td>\n",
       "      <td>18-24</td>\n",
       "      <td>M</td>\n",
       "      <td>BLACK</td>\n",
       "      <td>1.005028e+06</td>\n",
       "      <td>234516.000000</td>\n",
       "      <td>40.810352</td>\n",
       "      <td>-73.924942</td>\n",
       "      <td>POINT (-73.92494232599995 40.81035186300006)</td>\n",
       "    </tr>\n",
       "    <tr>\n",
       "      <th>2</th>\n",
       "      <td>147998800</td>\n",
       "      <td>11/21/2015</td>\n",
       "      <td>03:56:00</td>\n",
       "      <td>QUEENS</td>\n",
       "      <td>NaN</td>\n",
       "      <td>108</td>\n",
       "      <td>0.0</td>\n",
       "      <td>NaN</td>\n",
       "      <td>NaN</td>\n",
       "      <td>True</td>\n",
       "      <td>...</td>\n",
       "      <td>NaN</td>\n",
       "      <td>NaN</td>\n",
       "      <td>25-44</td>\n",
       "      <td>M</td>\n",
       "      <td>WHITE</td>\n",
       "      <td>1.007668e+06</td>\n",
       "      <td>209836.531250</td>\n",
       "      <td>40.742607</td>\n",
       "      <td>-73.915492</td>\n",
       "      <td>POINT (-73.91549174199997 40.74260663300004)</td>\n",
       "    </tr>\n",
       "    <tr>\n",
       "      <th>3</th>\n",
       "      <td>146837977</td>\n",
       "      <td>10/09/2015</td>\n",
       "      <td>18:30:00</td>\n",
       "      <td>BRONX</td>\n",
       "      <td>NaN</td>\n",
       "      <td>44</td>\n",
       "      <td>0.0</td>\n",
       "      <td>NaN</td>\n",
       "      <td>NaN</td>\n",
       "      <td>False</td>\n",
       "      <td>...</td>\n",
       "      <td>NaN</td>\n",
       "      <td>NaN</td>\n",
       "      <td>&lt;18</td>\n",
       "      <td>M</td>\n",
       "      <td>WHITE HISPANIC</td>\n",
       "      <td>1.006537e+06</td>\n",
       "      <td>244511.140625</td>\n",
       "      <td>40.837782</td>\n",
       "      <td>-73.919457</td>\n",
       "      <td>POINT (-73.91945661499994 40.83778200300003)</td>\n",
       "    </tr>\n",
       "    <tr>\n",
       "      <th>4</th>\n",
       "      <td>58921844</td>\n",
       "      <td>02/19/2009</td>\n",
       "      <td>22:58:00</td>\n",
       "      <td>BRONX</td>\n",
       "      <td>NaN</td>\n",
       "      <td>47</td>\n",
       "      <td>0.0</td>\n",
       "      <td>NaN</td>\n",
       "      <td>NaN</td>\n",
       "      <td>True</td>\n",
       "      <td>...</td>\n",
       "      <td>M</td>\n",
       "      <td>BLACK</td>\n",
       "      <td>45-64</td>\n",
       "      <td>M</td>\n",
       "      <td>BLACK</td>\n",
       "      <td>1.024922e+06</td>\n",
       "      <td>262189.406250</td>\n",
       "      <td>40.886238</td>\n",
       "      <td>-73.852910</td>\n",
       "      <td>POINT (-73.85290950899997 40.88623791800006)</td>\n",
       "    </tr>\n",
       "  </tbody>\n",
       "</table>\n",
       "<p>5 rows × 21 columns</p>\n",
       "</div>"
      ],
      "text/plain": [
       "   INCIDENT_KEY  OCCUR_DATE OCCUR_TIME    BORO LOC_OF_OCCUR_DESC  PRECINCT  \\\n",
       "0     228798151  05/27/2021   21:30:00  QUEENS               NaN       105   \n",
       "1     137471050  06/27/2014   17:40:00   BRONX               NaN        40   \n",
       "2     147998800  11/21/2015   03:56:00  QUEENS               NaN       108   \n",
       "3     146837977  10/09/2015   18:30:00   BRONX               NaN        44   \n",
       "4      58921844  02/19/2009   22:58:00   BRONX               NaN        47   \n",
       "\n",
       "   JURISDICTION_CODE LOC_CLASSFCTN_DESC LOCATION_DESC STATISTICAL_MURDER_FLAG  \\\n",
       "0                0.0                NaN           NaN                   False   \n",
       "1                0.0                NaN           NaN                   False   \n",
       "2                0.0                NaN           NaN                    True   \n",
       "3                0.0                NaN           NaN                   False   \n",
       "4                0.0                NaN           NaN                    True   \n",
       "\n",
       "   ... PERP_SEX PERP_RACE VIC_AGE_GROUP VIC_SEX        VIC_RACE    X_COORD_CD  \\\n",
       "0  ...      NaN       NaN         18-24       M           BLACK  1.058925e+06   \n",
       "1  ...      NaN       NaN         18-24       M           BLACK  1.005028e+06   \n",
       "2  ...      NaN       NaN         25-44       M           WHITE  1.007668e+06   \n",
       "3  ...      NaN       NaN           <18       M  WHITE HISPANIC  1.006537e+06   \n",
       "4  ...        M     BLACK         45-64       M           BLACK  1.024922e+06   \n",
       "\n",
       "      Y_COORD_CD   Latitude  Longitude  \\\n",
       "0  180924.000000  40.662965 -73.730839   \n",
       "1  234516.000000  40.810352 -73.924942   \n",
       "2  209836.531250  40.742607 -73.915492   \n",
       "3  244511.140625  40.837782 -73.919457   \n",
       "4  262189.406250  40.886238 -73.852910   \n",
       "\n",
       "                                         Lon_Lat  \n",
       "0  POINT (-73.73083868899994 40.662964620000025)  \n",
       "1   POINT (-73.92494232599995 40.81035186300006)  \n",
       "2   POINT (-73.91549174199997 40.74260663300004)  \n",
       "3   POINT (-73.91945661499994 40.83778200300003)  \n",
       "4   POINT (-73.85290950899997 40.88623791800006)  \n",
       "\n",
       "[5 rows x 21 columns]"
      ]
     },
     "execution_count": 79,
     "metadata": {},
     "output_type": "execute_result"
    }
   ],
   "source": [
    "df.head()"
   ]
  },
  {
   "cell_type": "code",
   "execution_count": 80,
   "metadata": {},
   "outputs": [
    {
     "data": {
      "text/plain": [
       "(28303, 21)"
      ]
     },
     "execution_count": 80,
     "metadata": {},
     "output_type": "execute_result"
    }
   ],
   "source": [
    "df.shape"
   ]
  },
  {
   "cell_type": "code",
   "execution_count": 81,
   "metadata": {},
   "outputs": [],
   "source": [
    "#Handling missing data values\n",
    "df['LOCATION_DESC'].fillna(value = 'NONE', inplace = True)\n",
    "df['LOCATION_DESC'].replace('(null)', 'NONE', inplace=True)\n",
    "df['PERP_AGE_GROUP'].fillna(value = 'UNKNOWN', inplace = True)\n",
    "df['PERP_AGE_GROUP'].replace('(null)', 'UNKNOWN', inplace=True)\n",
    "df['PERP_SEX'].fillna(value = 'U', inplace = True)\n",
    "df['PERP_SEX'].replace('(null)', 'U', inplace=True)\n",
    "df['PERP_RACE'].fillna(value = 'UNKNOWN', inplace = True)\n",
    "df['PERP_RACE'].replace('(null)', 'UNKNOWN', inplace=True)\n",
    "df['LOC_OF_OCCUR_DESC'].fillna(value = 'UNKNOWN', inplace = True)\n",
    "df['LOC_CLASSFCTN_DESC'].fillna(value = 'UNKNOWN', inplace = True)"
   ]
  },
  {
   "cell_type": "code",
   "execution_count": 82,
   "metadata": {
    "scrolled": true
   },
   "outputs": [
    {
     "data": {
      "text/plain": [
       "UNKNOWN    13507\n",
       "18-24       6408\n",
       "25-44       5972\n",
       "<18         1668\n",
       "45-64        682\n",
       "65+           62\n",
       "1028           1\n",
       "1020           1\n",
       "224            1\n",
       "940            1\n",
       "Name: PERP_AGE_GROUP, dtype: int64"
      ]
     },
     "execution_count": 82,
     "metadata": {},
     "output_type": "execute_result"
    }
   ],
   "source": [
    "df['PERP_AGE_GROUP'].value_counts()"
   ]
  },
  {
   "cell_type": "code",
   "execution_count": 83,
   "metadata": {},
   "outputs": [],
   "source": [
    "df.drop(df[df['PERP_AGE_GROUP'] == '1028'].index, inplace = True)\n",
    "df.drop(df[df['PERP_AGE_GROUP'] == '1020'].index, inplace = True)\n",
    "df.drop(df[df['PERP_AGE_GROUP'] == '940'].index, inplace = True)\n",
    "df.drop(df[df['PERP_AGE_GROUP'] == '224'].index, inplace = True)"
   ]
  },
  {
   "cell_type": "code",
   "execution_count": 84,
   "metadata": {},
   "outputs": [
    {
     "data": {
      "text/plain": [
       "25-44      12815\n",
       "18-24      10328\n",
       "<18         2930\n",
       "45-64       1959\n",
       "65+          201\n",
       "UNKNOWN       63\n",
       "1022           1\n",
       "Name: VIC_AGE_GROUP, dtype: int64"
      ]
     },
     "execution_count": 84,
     "metadata": {},
     "output_type": "execute_result"
    }
   ],
   "source": [
    "df['VIC_AGE_GROUP'].value_counts()"
   ]
  },
  {
   "cell_type": "code",
   "execution_count": 85,
   "metadata": {},
   "outputs": [],
   "source": [
    "df.drop(df[df['VIC_AGE_GROUP'] == '1022'].index, inplace = True)"
   ]
  },
  {
   "cell_type": "code",
   "execution_count": 86,
   "metadata": {},
   "outputs": [
    {
     "data": {
      "text/plain": [
       "UNKNOWN    25592\n",
       "OUTSIDE     2311\n",
       "INSIDE       393\n",
       "Name: LOC_OF_OCCUR_DESC, dtype: int64"
      ]
     },
     "execution_count": 86,
     "metadata": {},
     "output_type": "execute_result"
    }
   ],
   "source": [
    "df['LOC_OF_OCCUR_DESC'].value_counts()"
   ]
  },
  {
   "cell_type": "code",
   "execution_count": 87,
   "metadata": {},
   "outputs": [],
   "source": [
    "#Extracting year, month and days from the date of occurence\n",
    "df['year'] = pd.DatetimeIndex(df['OCCUR_DATE']).year\n",
    "df['month'] = pd.DatetimeIndex(df['OCCUR_DATE']).month\n",
    "df['day'] = pd.DatetimeIndex(df['OCCUR_DATE']).day\n",
    "\n",
    "#Extracting day of week from the date\n",
    "df['OCCUR_DATE'] = pd.to_datetime(df['OCCUR_DATE'])\n",
    "\n",
    "df['day_of_week'] = df['OCCUR_DATE'].dt.day_name()\n",
    "\n",
    "#Extracting hours and minutes of the incident from the occurence time\n",
    "df['OCCUR_TIME'] = pd.to_datetime(df['OCCUR_TIME'])\n",
    "df['hour'] = df['OCCUR_TIME'].dt.strftime('%H')\n",
    "df['minutes'] = df['OCCUR_TIME'].dt.strftime('%M')"
   ]
  },
  {
   "cell_type": "code",
   "execution_count": 88,
   "metadata": {},
   "outputs": [
    {
     "data": {
      "text/html": [
       "<div>\n",
       "<style scoped>\n",
       "    .dataframe tbody tr th:only-of-type {\n",
       "        vertical-align: middle;\n",
       "    }\n",
       "\n",
       "    .dataframe tbody tr th {\n",
       "        vertical-align: top;\n",
       "    }\n",
       "\n",
       "    .dataframe thead th {\n",
       "        text-align: right;\n",
       "    }\n",
       "</style>\n",
       "<table border=\"1\" class=\"dataframe\">\n",
       "  <thead>\n",
       "    <tr style=\"text-align: right;\">\n",
       "      <th></th>\n",
       "      <th>INCIDENT_KEY</th>\n",
       "      <th>OCCUR_DATE</th>\n",
       "      <th>OCCUR_TIME</th>\n",
       "      <th>BORO</th>\n",
       "      <th>LOC_OF_OCCUR_DESC</th>\n",
       "      <th>PRECINCT</th>\n",
       "      <th>JURISDICTION_CODE</th>\n",
       "      <th>LOC_CLASSFCTN_DESC</th>\n",
       "      <th>LOCATION_DESC</th>\n",
       "      <th>STATISTICAL_MURDER_FLAG</th>\n",
       "      <th>...</th>\n",
       "      <th>Y_COORD_CD</th>\n",
       "      <th>Latitude</th>\n",
       "      <th>Longitude</th>\n",
       "      <th>Lon_Lat</th>\n",
       "      <th>year</th>\n",
       "      <th>month</th>\n",
       "      <th>day</th>\n",
       "      <th>day_of_week</th>\n",
       "      <th>hour</th>\n",
       "      <th>minutes</th>\n",
       "    </tr>\n",
       "  </thead>\n",
       "  <tbody>\n",
       "    <tr>\n",
       "      <th>0</th>\n",
       "      <td>228798151</td>\n",
       "      <td>2021-05-27</td>\n",
       "      <td>2024-01-11 21:30:00</td>\n",
       "      <td>QUEENS</td>\n",
       "      <td>UNKNOWN</td>\n",
       "      <td>105</td>\n",
       "      <td>0.0</td>\n",
       "      <td>UNKNOWN</td>\n",
       "      <td>NONE</td>\n",
       "      <td>False</td>\n",
       "      <td>...</td>\n",
       "      <td>180924.000000</td>\n",
       "      <td>40.662965</td>\n",
       "      <td>-73.730839</td>\n",
       "      <td>POINT (-73.73083868899994 40.662964620000025)</td>\n",
       "      <td>2021</td>\n",
       "      <td>5</td>\n",
       "      <td>27</td>\n",
       "      <td>Thursday</td>\n",
       "      <td>21</td>\n",
       "      <td>30</td>\n",
       "    </tr>\n",
       "    <tr>\n",
       "      <th>1</th>\n",
       "      <td>137471050</td>\n",
       "      <td>2014-06-27</td>\n",
       "      <td>2024-01-11 17:40:00</td>\n",
       "      <td>BRONX</td>\n",
       "      <td>UNKNOWN</td>\n",
       "      <td>40</td>\n",
       "      <td>0.0</td>\n",
       "      <td>UNKNOWN</td>\n",
       "      <td>NONE</td>\n",
       "      <td>False</td>\n",
       "      <td>...</td>\n",
       "      <td>234516.000000</td>\n",
       "      <td>40.810352</td>\n",
       "      <td>-73.924942</td>\n",
       "      <td>POINT (-73.92494232599995 40.81035186300006)</td>\n",
       "      <td>2014</td>\n",
       "      <td>6</td>\n",
       "      <td>27</td>\n",
       "      <td>Friday</td>\n",
       "      <td>17</td>\n",
       "      <td>40</td>\n",
       "    </tr>\n",
       "    <tr>\n",
       "      <th>2</th>\n",
       "      <td>147998800</td>\n",
       "      <td>2015-11-21</td>\n",
       "      <td>2024-01-11 03:56:00</td>\n",
       "      <td>QUEENS</td>\n",
       "      <td>UNKNOWN</td>\n",
       "      <td>108</td>\n",
       "      <td>0.0</td>\n",
       "      <td>UNKNOWN</td>\n",
       "      <td>NONE</td>\n",
       "      <td>True</td>\n",
       "      <td>...</td>\n",
       "      <td>209836.531250</td>\n",
       "      <td>40.742607</td>\n",
       "      <td>-73.915492</td>\n",
       "      <td>POINT (-73.91549174199997 40.74260663300004)</td>\n",
       "      <td>2015</td>\n",
       "      <td>11</td>\n",
       "      <td>21</td>\n",
       "      <td>Saturday</td>\n",
       "      <td>03</td>\n",
       "      <td>56</td>\n",
       "    </tr>\n",
       "    <tr>\n",
       "      <th>3</th>\n",
       "      <td>146837977</td>\n",
       "      <td>2015-10-09</td>\n",
       "      <td>2024-01-11 18:30:00</td>\n",
       "      <td>BRONX</td>\n",
       "      <td>UNKNOWN</td>\n",
       "      <td>44</td>\n",
       "      <td>0.0</td>\n",
       "      <td>UNKNOWN</td>\n",
       "      <td>NONE</td>\n",
       "      <td>False</td>\n",
       "      <td>...</td>\n",
       "      <td>244511.140625</td>\n",
       "      <td>40.837782</td>\n",
       "      <td>-73.919457</td>\n",
       "      <td>POINT (-73.91945661499994 40.83778200300003)</td>\n",
       "      <td>2015</td>\n",
       "      <td>10</td>\n",
       "      <td>9</td>\n",
       "      <td>Friday</td>\n",
       "      <td>18</td>\n",
       "      <td>30</td>\n",
       "    </tr>\n",
       "    <tr>\n",
       "      <th>4</th>\n",
       "      <td>58921844</td>\n",
       "      <td>2009-02-19</td>\n",
       "      <td>2024-01-11 22:58:00</td>\n",
       "      <td>BRONX</td>\n",
       "      <td>UNKNOWN</td>\n",
       "      <td>47</td>\n",
       "      <td>0.0</td>\n",
       "      <td>UNKNOWN</td>\n",
       "      <td>NONE</td>\n",
       "      <td>True</td>\n",
       "      <td>...</td>\n",
       "      <td>262189.406250</td>\n",
       "      <td>40.886238</td>\n",
       "      <td>-73.852910</td>\n",
       "      <td>POINT (-73.85290950899997 40.88623791800006)</td>\n",
       "      <td>2009</td>\n",
       "      <td>2</td>\n",
       "      <td>19</td>\n",
       "      <td>Thursday</td>\n",
       "      <td>22</td>\n",
       "      <td>58</td>\n",
       "    </tr>\n",
       "  </tbody>\n",
       "</table>\n",
       "<p>5 rows × 27 columns</p>\n",
       "</div>"
      ],
      "text/plain": [
       "   INCIDENT_KEY OCCUR_DATE          OCCUR_TIME    BORO LOC_OF_OCCUR_DESC  \\\n",
       "0     228798151 2021-05-27 2024-01-11 21:30:00  QUEENS           UNKNOWN   \n",
       "1     137471050 2014-06-27 2024-01-11 17:40:00   BRONX           UNKNOWN   \n",
       "2     147998800 2015-11-21 2024-01-11 03:56:00  QUEENS           UNKNOWN   \n",
       "3     146837977 2015-10-09 2024-01-11 18:30:00   BRONX           UNKNOWN   \n",
       "4      58921844 2009-02-19 2024-01-11 22:58:00   BRONX           UNKNOWN   \n",
       "\n",
       "   PRECINCT  JURISDICTION_CODE LOC_CLASSFCTN_DESC LOCATION_DESC  \\\n",
       "0       105                0.0            UNKNOWN          NONE   \n",
       "1        40                0.0            UNKNOWN          NONE   \n",
       "2       108                0.0            UNKNOWN          NONE   \n",
       "3        44                0.0            UNKNOWN          NONE   \n",
       "4        47                0.0            UNKNOWN          NONE   \n",
       "\n",
       "  STATISTICAL_MURDER_FLAG  ...     Y_COORD_CD   Latitude  Longitude  \\\n",
       "0                   False  ...  180924.000000  40.662965 -73.730839   \n",
       "1                   False  ...  234516.000000  40.810352 -73.924942   \n",
       "2                    True  ...  209836.531250  40.742607 -73.915492   \n",
       "3                   False  ...  244511.140625  40.837782 -73.919457   \n",
       "4                    True  ...  262189.406250  40.886238 -73.852910   \n",
       "\n",
       "                                         Lon_Lat  year month  day  \\\n",
       "0  POINT (-73.73083868899994 40.662964620000025)  2021     5   27   \n",
       "1   POINT (-73.92494232599995 40.81035186300006)  2014     6   27   \n",
       "2   POINT (-73.91549174199997 40.74260663300004)  2015    11   21   \n",
       "3   POINT (-73.91945661499994 40.83778200300003)  2015    10    9   \n",
       "4   POINT (-73.85290950899997 40.88623791800006)  2009     2   19   \n",
       "\n",
       "   day_of_week  hour  minutes  \n",
       "0     Thursday    21       30  \n",
       "1       Friday    17       40  \n",
       "2     Saturday    03       56  \n",
       "3       Friday    18       30  \n",
       "4     Thursday    22       58  \n",
       "\n",
       "[5 rows x 27 columns]"
      ]
     },
     "execution_count": 88,
     "metadata": {},
     "output_type": "execute_result"
    }
   ],
   "source": [
    "df.head()"
   ]
  },
  {
   "cell_type": "code",
   "execution_count": 89,
   "metadata": {},
   "outputs": [],
   "source": [
    "columns = ['OCCUR_DATE', 'OCCUR_TIME']\n",
    "df.drop(columns, axis =1, inplace = True)"
   ]
  },
  {
   "cell_type": "code",
   "execution_count": 90,
   "metadata": {
    "scrolled": true
   },
   "outputs": [
    {
     "data": {
      "text/html": [
       "<div>\n",
       "<style scoped>\n",
       "    .dataframe tbody tr th:only-of-type {\n",
       "        vertical-align: middle;\n",
       "    }\n",
       "\n",
       "    .dataframe tbody tr th {\n",
       "        vertical-align: top;\n",
       "    }\n",
       "\n",
       "    .dataframe thead th {\n",
       "        text-align: right;\n",
       "    }\n",
       "</style>\n",
       "<table border=\"1\" class=\"dataframe\">\n",
       "  <thead>\n",
       "    <tr style=\"text-align: right;\">\n",
       "      <th></th>\n",
       "      <th>INCIDENT_KEY</th>\n",
       "      <th>BORO</th>\n",
       "      <th>LOC_OF_OCCUR_DESC</th>\n",
       "      <th>PRECINCT</th>\n",
       "      <th>JURISDICTION_CODE</th>\n",
       "      <th>LOC_CLASSFCTN_DESC</th>\n",
       "      <th>LOCATION_DESC</th>\n",
       "      <th>STATISTICAL_MURDER_FLAG</th>\n",
       "      <th>PERP_AGE_GROUP</th>\n",
       "      <th>PERP_SEX</th>\n",
       "      <th>...</th>\n",
       "      <th>Y_COORD_CD</th>\n",
       "      <th>Latitude</th>\n",
       "      <th>Longitude</th>\n",
       "      <th>Lon_Lat</th>\n",
       "      <th>year</th>\n",
       "      <th>month</th>\n",
       "      <th>day</th>\n",
       "      <th>day_of_week</th>\n",
       "      <th>hour</th>\n",
       "      <th>minutes</th>\n",
       "    </tr>\n",
       "  </thead>\n",
       "  <tbody>\n",
       "    <tr>\n",
       "      <th>0</th>\n",
       "      <td>228798151</td>\n",
       "      <td>QUEENS</td>\n",
       "      <td>UNKNOWN</td>\n",
       "      <td>105</td>\n",
       "      <td>0.0</td>\n",
       "      <td>UNKNOWN</td>\n",
       "      <td>NONE</td>\n",
       "      <td>False</td>\n",
       "      <td>UNKNOWN</td>\n",
       "      <td>U</td>\n",
       "      <td>...</td>\n",
       "      <td>180924.000000</td>\n",
       "      <td>40.662965</td>\n",
       "      <td>-73.730839</td>\n",
       "      <td>POINT (-73.73083868899994 40.662964620000025)</td>\n",
       "      <td>2021</td>\n",
       "      <td>5</td>\n",
       "      <td>27</td>\n",
       "      <td>Thursday</td>\n",
       "      <td>21</td>\n",
       "      <td>30</td>\n",
       "    </tr>\n",
       "    <tr>\n",
       "      <th>1</th>\n",
       "      <td>137471050</td>\n",
       "      <td>BRONX</td>\n",
       "      <td>UNKNOWN</td>\n",
       "      <td>40</td>\n",
       "      <td>0.0</td>\n",
       "      <td>UNKNOWN</td>\n",
       "      <td>NONE</td>\n",
       "      <td>False</td>\n",
       "      <td>UNKNOWN</td>\n",
       "      <td>U</td>\n",
       "      <td>...</td>\n",
       "      <td>234516.000000</td>\n",
       "      <td>40.810352</td>\n",
       "      <td>-73.924942</td>\n",
       "      <td>POINT (-73.92494232599995 40.81035186300006)</td>\n",
       "      <td>2014</td>\n",
       "      <td>6</td>\n",
       "      <td>27</td>\n",
       "      <td>Friday</td>\n",
       "      <td>17</td>\n",
       "      <td>40</td>\n",
       "    </tr>\n",
       "    <tr>\n",
       "      <th>2</th>\n",
       "      <td>147998800</td>\n",
       "      <td>QUEENS</td>\n",
       "      <td>UNKNOWN</td>\n",
       "      <td>108</td>\n",
       "      <td>0.0</td>\n",
       "      <td>UNKNOWN</td>\n",
       "      <td>NONE</td>\n",
       "      <td>True</td>\n",
       "      <td>UNKNOWN</td>\n",
       "      <td>U</td>\n",
       "      <td>...</td>\n",
       "      <td>209836.531250</td>\n",
       "      <td>40.742607</td>\n",
       "      <td>-73.915492</td>\n",
       "      <td>POINT (-73.91549174199997 40.74260663300004)</td>\n",
       "      <td>2015</td>\n",
       "      <td>11</td>\n",
       "      <td>21</td>\n",
       "      <td>Saturday</td>\n",
       "      <td>03</td>\n",
       "      <td>56</td>\n",
       "    </tr>\n",
       "    <tr>\n",
       "      <th>3</th>\n",
       "      <td>146837977</td>\n",
       "      <td>BRONX</td>\n",
       "      <td>UNKNOWN</td>\n",
       "      <td>44</td>\n",
       "      <td>0.0</td>\n",
       "      <td>UNKNOWN</td>\n",
       "      <td>NONE</td>\n",
       "      <td>False</td>\n",
       "      <td>UNKNOWN</td>\n",
       "      <td>U</td>\n",
       "      <td>...</td>\n",
       "      <td>244511.140625</td>\n",
       "      <td>40.837782</td>\n",
       "      <td>-73.919457</td>\n",
       "      <td>POINT (-73.91945661499994 40.83778200300003)</td>\n",
       "      <td>2015</td>\n",
       "      <td>10</td>\n",
       "      <td>9</td>\n",
       "      <td>Friday</td>\n",
       "      <td>18</td>\n",
       "      <td>30</td>\n",
       "    </tr>\n",
       "    <tr>\n",
       "      <th>4</th>\n",
       "      <td>58921844</td>\n",
       "      <td>BRONX</td>\n",
       "      <td>UNKNOWN</td>\n",
       "      <td>47</td>\n",
       "      <td>0.0</td>\n",
       "      <td>UNKNOWN</td>\n",
       "      <td>NONE</td>\n",
       "      <td>True</td>\n",
       "      <td>25-44</td>\n",
       "      <td>M</td>\n",
       "      <td>...</td>\n",
       "      <td>262189.406250</td>\n",
       "      <td>40.886238</td>\n",
       "      <td>-73.852910</td>\n",
       "      <td>POINT (-73.85290950899997 40.88623791800006)</td>\n",
       "      <td>2009</td>\n",
       "      <td>2</td>\n",
       "      <td>19</td>\n",
       "      <td>Thursday</td>\n",
       "      <td>22</td>\n",
       "      <td>58</td>\n",
       "    </tr>\n",
       "  </tbody>\n",
       "</table>\n",
       "<p>5 rows × 25 columns</p>\n",
       "</div>"
      ],
      "text/plain": [
       "   INCIDENT_KEY    BORO LOC_OF_OCCUR_DESC  PRECINCT  JURISDICTION_CODE  \\\n",
       "0     228798151  QUEENS           UNKNOWN       105                0.0   \n",
       "1     137471050   BRONX           UNKNOWN        40                0.0   \n",
       "2     147998800  QUEENS           UNKNOWN       108                0.0   \n",
       "3     146837977   BRONX           UNKNOWN        44                0.0   \n",
       "4      58921844   BRONX           UNKNOWN        47                0.0   \n",
       "\n",
       "  LOC_CLASSFCTN_DESC LOCATION_DESC STATISTICAL_MURDER_FLAG PERP_AGE_GROUP  \\\n",
       "0            UNKNOWN          NONE                   False        UNKNOWN   \n",
       "1            UNKNOWN          NONE                   False        UNKNOWN   \n",
       "2            UNKNOWN          NONE                    True        UNKNOWN   \n",
       "3            UNKNOWN          NONE                   False        UNKNOWN   \n",
       "4            UNKNOWN          NONE                    True          25-44   \n",
       "\n",
       "  PERP_SEX  ...     Y_COORD_CD   Latitude  Longitude  \\\n",
       "0        U  ...  180924.000000  40.662965 -73.730839   \n",
       "1        U  ...  234516.000000  40.810352 -73.924942   \n",
       "2        U  ...  209836.531250  40.742607 -73.915492   \n",
       "3        U  ...  244511.140625  40.837782 -73.919457   \n",
       "4        M  ...  262189.406250  40.886238 -73.852910   \n",
       "\n",
       "                                         Lon_Lat  year  month  day  \\\n",
       "0  POINT (-73.73083868899994 40.662964620000025)  2021      5   27   \n",
       "1   POINT (-73.92494232599995 40.81035186300006)  2014      6   27   \n",
       "2   POINT (-73.91549174199997 40.74260663300004)  2015     11   21   \n",
       "3   POINT (-73.91945661499994 40.83778200300003)  2015     10    9   \n",
       "4   POINT (-73.85290950899997 40.88623791800006)  2009      2   19   \n",
       "\n",
       "   day_of_week hour  minutes  \n",
       "0     Thursday   21       30  \n",
       "1       Friday   17       40  \n",
       "2     Saturday   03       56  \n",
       "3       Friday   18       30  \n",
       "4     Thursday   22       58  \n",
       "\n",
       "[5 rows x 25 columns]"
      ]
     },
     "execution_count": 90,
     "metadata": {},
     "output_type": "execute_result"
    }
   ],
   "source": [
    "df.head()"
   ]
  },
  {
   "cell_type": "markdown",
   "metadata": {},
   "source": [
    "We need to create a subset of the dataset since there are duplicates in the incident_key column. As mentioned in the footnotes, A shooting incident can have multiple victims involved and as a result duplicate INCIDENT_KEY’s are produced and each incident key represents a victim but duplicate keys represent a single incident. So we will create a dataframe where we remove the duplicate incident keys and just keep one record. We will only use this dataset when we have to index the data on incident_key column(example: counting number of incidents based on hour, day, month, year etc.). Using this for analyzing perpetrator or victim data would be not be correct, since the duplicates deleted would have contained the information of multiple victims from one incident and that data is lost in the new data subset."
   ]
  },
  {
   "cell_type": "code",
   "execution_count": 91,
   "metadata": {},
   "outputs": [],
   "source": [
    "dfi = df.drop_duplicates(subset='INCIDENT_KEY', keep=\"last\")"
   ]
  },
  {
   "cell_type": "code",
   "execution_count": 92,
   "metadata": {},
   "outputs": [
    {
     "data": {
      "text/html": [
       "<div>\n",
       "<style scoped>\n",
       "    .dataframe tbody tr th:only-of-type {\n",
       "        vertical-align: middle;\n",
       "    }\n",
       "\n",
       "    .dataframe tbody tr th {\n",
       "        vertical-align: top;\n",
       "    }\n",
       "\n",
       "    .dataframe thead th {\n",
       "        text-align: right;\n",
       "    }\n",
       "</style>\n",
       "<table border=\"1\" class=\"dataframe\">\n",
       "  <thead>\n",
       "    <tr style=\"text-align: right;\">\n",
       "      <th></th>\n",
       "      <th>INCIDENT_KEY</th>\n",
       "      <th>BORO</th>\n",
       "      <th>LOC_OF_OCCUR_DESC</th>\n",
       "      <th>PRECINCT</th>\n",
       "      <th>JURISDICTION_CODE</th>\n",
       "      <th>LOC_CLASSFCTN_DESC</th>\n",
       "      <th>LOCATION_DESC</th>\n",
       "      <th>STATISTICAL_MURDER_FLAG</th>\n",
       "      <th>PERP_AGE_GROUP</th>\n",
       "      <th>PERP_SEX</th>\n",
       "      <th>...</th>\n",
       "      <th>Y_COORD_CD</th>\n",
       "      <th>Latitude</th>\n",
       "      <th>Longitude</th>\n",
       "      <th>Lon_Lat</th>\n",
       "      <th>year</th>\n",
       "      <th>month</th>\n",
       "      <th>day</th>\n",
       "      <th>day_of_week</th>\n",
       "      <th>hour</th>\n",
       "      <th>minutes</th>\n",
       "    </tr>\n",
       "  </thead>\n",
       "  <tbody>\n",
       "    <tr>\n",
       "      <th>1</th>\n",
       "      <td>137471050</td>\n",
       "      <td>BRONX</td>\n",
       "      <td>UNKNOWN</td>\n",
       "      <td>40</td>\n",
       "      <td>0.0</td>\n",
       "      <td>UNKNOWN</td>\n",
       "      <td>NONE</td>\n",
       "      <td>False</td>\n",
       "      <td>UNKNOWN</td>\n",
       "      <td>U</td>\n",
       "      <td>...</td>\n",
       "      <td>234516.000000</td>\n",
       "      <td>40.810352</td>\n",
       "      <td>-73.924942</td>\n",
       "      <td>POINT (-73.92494232599995 40.81035186300006)</td>\n",
       "      <td>2014</td>\n",
       "      <td>6</td>\n",
       "      <td>27</td>\n",
       "      <td>Friday</td>\n",
       "      <td>17</td>\n",
       "      <td>40</td>\n",
       "    </tr>\n",
       "    <tr>\n",
       "      <th>2</th>\n",
       "      <td>147998800</td>\n",
       "      <td>QUEENS</td>\n",
       "      <td>UNKNOWN</td>\n",
       "      <td>108</td>\n",
       "      <td>0.0</td>\n",
       "      <td>UNKNOWN</td>\n",
       "      <td>NONE</td>\n",
       "      <td>True</td>\n",
       "      <td>UNKNOWN</td>\n",
       "      <td>U</td>\n",
       "      <td>...</td>\n",
       "      <td>209836.531250</td>\n",
       "      <td>40.742607</td>\n",
       "      <td>-73.915492</td>\n",
       "      <td>POINT (-73.91549174199997 40.74260663300004)</td>\n",
       "      <td>2015</td>\n",
       "      <td>11</td>\n",
       "      <td>21</td>\n",
       "      <td>Saturday</td>\n",
       "      <td>03</td>\n",
       "      <td>56</td>\n",
       "    </tr>\n",
       "    <tr>\n",
       "      <th>3</th>\n",
       "      <td>146837977</td>\n",
       "      <td>BRONX</td>\n",
       "      <td>UNKNOWN</td>\n",
       "      <td>44</td>\n",
       "      <td>0.0</td>\n",
       "      <td>UNKNOWN</td>\n",
       "      <td>NONE</td>\n",
       "      <td>False</td>\n",
       "      <td>UNKNOWN</td>\n",
       "      <td>U</td>\n",
       "      <td>...</td>\n",
       "      <td>244511.140625</td>\n",
       "      <td>40.837782</td>\n",
       "      <td>-73.919457</td>\n",
       "      <td>POINT (-73.91945661499994 40.83778200300003)</td>\n",
       "      <td>2015</td>\n",
       "      <td>10</td>\n",
       "      <td>9</td>\n",
       "      <td>Friday</td>\n",
       "      <td>18</td>\n",
       "      <td>30</td>\n",
       "    </tr>\n",
       "    <tr>\n",
       "      <th>4</th>\n",
       "      <td>58921844</td>\n",
       "      <td>BRONX</td>\n",
       "      <td>UNKNOWN</td>\n",
       "      <td>47</td>\n",
       "      <td>0.0</td>\n",
       "      <td>UNKNOWN</td>\n",
       "      <td>NONE</td>\n",
       "      <td>True</td>\n",
       "      <td>25-44</td>\n",
       "      <td>M</td>\n",
       "      <td>...</td>\n",
       "      <td>262189.406250</td>\n",
       "      <td>40.886238</td>\n",
       "      <td>-73.852910</td>\n",
       "      <td>POINT (-73.85290950899997 40.88623791800006)</td>\n",
       "      <td>2009</td>\n",
       "      <td>2</td>\n",
       "      <td>19</td>\n",
       "      <td>Thursday</td>\n",
       "      <td>22</td>\n",
       "      <td>58</td>\n",
       "    </tr>\n",
       "    <tr>\n",
       "      <th>5</th>\n",
       "      <td>219559682</td>\n",
       "      <td>BROOKLYN</td>\n",
       "      <td>UNKNOWN</td>\n",
       "      <td>81</td>\n",
       "      <td>0.0</td>\n",
       "      <td>UNKNOWN</td>\n",
       "      <td>NONE</td>\n",
       "      <td>True</td>\n",
       "      <td>UNKNOWN</td>\n",
       "      <td>U</td>\n",
       "      <td>...</td>\n",
       "      <td>186461.703125</td>\n",
       "      <td>40.678457</td>\n",
       "      <td>-73.927952</td>\n",
       "      <td>POINT (-73.92795224099996 40.678456718000064)</td>\n",
       "      <td>2020</td>\n",
       "      <td>10</td>\n",
       "      <td>21</td>\n",
       "      <td>Wednesday</td>\n",
       "      <td>21</td>\n",
       "      <td>36</td>\n",
       "    </tr>\n",
       "  </tbody>\n",
       "</table>\n",
       "<p>5 rows × 25 columns</p>\n",
       "</div>"
      ],
      "text/plain": [
       "   INCIDENT_KEY      BORO LOC_OF_OCCUR_DESC  PRECINCT  JURISDICTION_CODE  \\\n",
       "1     137471050     BRONX           UNKNOWN        40                0.0   \n",
       "2     147998800    QUEENS           UNKNOWN       108                0.0   \n",
       "3     146837977     BRONX           UNKNOWN        44                0.0   \n",
       "4      58921844     BRONX           UNKNOWN        47                0.0   \n",
       "5     219559682  BROOKLYN           UNKNOWN        81                0.0   \n",
       "\n",
       "  LOC_CLASSFCTN_DESC LOCATION_DESC STATISTICAL_MURDER_FLAG PERP_AGE_GROUP  \\\n",
       "1            UNKNOWN          NONE                   False        UNKNOWN   \n",
       "2            UNKNOWN          NONE                    True        UNKNOWN   \n",
       "3            UNKNOWN          NONE                   False        UNKNOWN   \n",
       "4            UNKNOWN          NONE                    True          25-44   \n",
       "5            UNKNOWN          NONE                    True        UNKNOWN   \n",
       "\n",
       "  PERP_SEX  ...     Y_COORD_CD   Latitude  Longitude  \\\n",
       "1        U  ...  234516.000000  40.810352 -73.924942   \n",
       "2        U  ...  209836.531250  40.742607 -73.915492   \n",
       "3        U  ...  244511.140625  40.837782 -73.919457   \n",
       "4        M  ...  262189.406250  40.886238 -73.852910   \n",
       "5        U  ...  186461.703125  40.678457 -73.927952   \n",
       "\n",
       "                                         Lon_Lat  year  month  day  \\\n",
       "1   POINT (-73.92494232599995 40.81035186300006)  2014      6   27   \n",
       "2   POINT (-73.91549174199997 40.74260663300004)  2015     11   21   \n",
       "3   POINT (-73.91945661499994 40.83778200300003)  2015     10    9   \n",
       "4   POINT (-73.85290950899997 40.88623791800006)  2009      2   19   \n",
       "5  POINT (-73.92795224099996 40.678456718000064)  2020     10   21   \n",
       "\n",
       "   day_of_week hour  minutes  \n",
       "1       Friday   17       40  \n",
       "2     Saturday   03       56  \n",
       "3       Friday   18       30  \n",
       "4     Thursday   22       58  \n",
       "5    Wednesday   21       36  \n",
       "\n",
       "[5 rows x 25 columns]"
      ]
     },
     "execution_count": 92,
     "metadata": {},
     "output_type": "execute_result"
    }
   ],
   "source": [
    "dfi.head()"
   ]
  },
  {
   "cell_type": "code",
   "execution_count": 93,
   "metadata": {},
   "outputs": [
    {
     "data": {
      "text/plain": [
       "(22174, 25)"
      ]
     },
     "execution_count": 93,
     "metadata": {},
     "output_type": "execute_result"
    }
   ],
   "source": [
    "dfi.shape"
   ]
  },
  {
   "cell_type": "markdown",
   "metadata": {},
   "source": [
    "Let's do some very high level data analysis by counting the number of incidents in each boro and precinct. "
   ]
  },
  {
   "cell_type": "code",
   "execution_count": 94,
   "metadata": {},
   "outputs": [
    {
     "data": {
      "text/plain": [
       "<AxesSubplot:xlabel='BORO', ylabel='count'>"
      ]
     },
     "execution_count": 94,
     "metadata": {},
     "output_type": "execute_result"
    },
    {
     "data": {
      "image/png": "[encoded data removed]",
      "text/plain": [
       "<Figure size 864x432 with 1 Axes>"
      ]
     },
     "metadata": {
      "needs_background": "light"
     },
     "output_type": "display_data"
    }
   ],
   "source": [
    "plt.figure(figsize=(12,6))\n",
    "sns.countplot(x = 'BORO', data = dfi)"
   ]
  },
  {
   "cell_type": "code",
   "execution_count": 97,
   "metadata": {
    "scrolled": true
   },
   "outputs": [
    {
     "data": {
      "text/plain": [
       "<AxesSubplot:xlabel='PRECINCT', ylabel='count'>"
      ]
     },
     "execution_count": 97,
     "metadata": {},
     "output_type": "execute_result"
    },
    {
     "data": {
      "image/png": "[encoded data removed]",
      "text/plain": [
       "<Figure size 2880x576 with 1 Axes>"
      ]
     },
     "metadata": {
      "needs_background": "light"
     },
     "output_type": "display_data"
    }
   ],
   "source": [
    "plt.figure(figsize=(40,8))\n",
    "sns.countplot(x = 'PRECINCT', data = dfi)"
   ]
  },
  {
   "cell_type": "markdown",
   "metadata": {},
   "source": [
    "Let's plot subplots of year, month and day of the week to check the trends in the data."
   ]
  },
  {
   "cell_type": "code",
   "execution_count": 99,
   "metadata": {
    "scrolled": true
   },
   "outputs": [
    {
     "data": {
      "text/plain": [
       "<AxesSubplot:xlabel='day_of_week', ylabel='count'>"
      ]
     },
     "execution_count": 99,
     "metadata": {},
     "output_type": "execute_result"
    },
    {
     "data": {
      "image/png": "[encoded data removed]",
      "text/plain": [
       "<Figure size 2880x360 with 3 Axes>"
      ]
     },
     "metadata": {
      "needs_background": "light"
     },
     "output_type": "display_data"
    }
   ],
   "source": [
    "fig, axes = plt.subplots(1, 3, figsize = (40,5), sharey = True)\n",
    "sns.countplot(x = 'year', data = dfi, ax = axes[0])\n",
    "sns.countplot(x = 'month', data = dfi, ax = axes[1])\n",
    "sns.countplot(x = 'day_of_week', data = dfi, ax = axes[2])"
   ]
  },
  {
   "cell_type": "markdown",
   "metadata": {},
   "source": [
    "The y-o-y numbers have gone dowm from 2006 until 2019 but has risen in 2020, and it can be seen that most incidents occur in the summer(June, July, August) and on weekends (Saturday and Sunday)."
   ]
  },
  {
   "cell_type": "code",
   "execution_count": 100,
   "metadata": {},
   "outputs": [
    {
     "name": "stdout",
     "output_type": "stream",
     "text": [
      "<class 'pandas.core.frame.DataFrame'>\n",
      "Int64Index: 28296 entries, 0 to 990\n",
      "Data columns (total 25 columns):\n",
      " #   Column                   Non-Null Count  Dtype  \n",
      "---  ------                   --------------  -----  \n",
      " 0   INCIDENT_KEY             28296 non-null  int64  \n",
      " 1   BORO                     28296 non-null  object \n",
      " 2   LOC_OF_OCCUR_DESC        28296 non-null  object \n",
      " 3   PRECINCT                 28296 non-null  int64  \n",
      " 4   JURISDICTION_CODE        28294 non-null  float64\n",
      " 5   LOC_CLASSFCTN_DESC       28296 non-null  object \n",
      " 6   LOCATION_DESC            28296 non-null  object \n",
      " 7   STATISTICAL_MURDER_FLAG  28296 non-null  object \n",
      " 8   PERP_AGE_GROUP           28296 non-null  object \n",
      " 9   PERP_SEX                 28296 non-null  object \n",
      " 10  PERP_RACE                28296 non-null  object \n",
      " 11  VIC_AGE_GROUP            28296 non-null  object \n",
      " 12  VIC_SEX                  28296 non-null  object \n",
      " 13  VIC_RACE                 28296 non-null  object \n",
      " 14  X_COORD_CD               28296 non-null  float64\n",
      " 15  Y_COORD_CD               28296 non-null  float64\n",
      " 16  Latitude                 28246 non-null  float64\n",
      " 17  Longitude                28246 non-null  float64\n",
      " 18  Lon_Lat                  28246 non-null  object \n",
      " 19  year                     28296 non-null  int64  \n",
      " 20  month                    28296 non-null  int64  \n",
      " 21  day                      28296 non-null  int64  \n",
      " 22  day_of_week              28296 non-null  object \n",
      " 23  hour                     28296 non-null  object \n",
      " 24  minutes                  28296 non-null  object \n",
      "dtypes: float64(5), int64(5), object(15)\n",
      "memory usage: 5.6+ MB\n"
     ]
    }
   ],
   "source": [
    "df.info()"
   ]
  },
  {
   "cell_type": "code",
   "execution_count": 101,
   "metadata": {},
   "outputs": [],
   "source": [
    "df = df.astype({ \"hour\": int, \"minutes\": int})\n",
    "dfi = dfi.astype({ \"hour\": int, \"minutes\": int})"
   ]
  },
  {
   "cell_type": "code",
   "execution_count": 102,
   "metadata": {
    "scrolled": false
   },
   "outputs": [
    {
     "data": {
      "text/plain": [
       "<AxesSubplot:xlabel='VIC_AGE_GROUP', ylabel='count'>"
      ]
     },
     "execution_count": 102,
     "metadata": {},
     "output_type": "execute_result"
    },
    {
     "data": {
      "image/png": "[encoded data removed]",
      "text/plain": [
       "<Figure size 1800x360 with 2 Axes>"
      ]
     },
     "metadata": {
      "needs_background": "light"
     },
     "output_type": "display_data"
    }
   ],
   "source": [
    "fig, axes = plt.subplots(1, 2, figsize = (25,5), sharey = True)\n",
    "sns.countplot(x = 'PERP_AGE_GROUP', data = df, ax = axes[0])\n",
    "sns.countplot(x = 'VIC_AGE_GROUP', data = df, ax = axes[1])"
   ]
  },
  {
   "cell_type": "markdown",
   "metadata": {},
   "source": [
    "There are a lot of unknowns here which is understandable since it can be unclear as to who was the perpetrator. The unknown count is very less for victims, since the cops can ID the victim and get the age once they have identified them."
   ]
  },
  {
   "cell_type": "code",
   "execution_count": 103,
   "metadata": {},
   "outputs": [],
   "source": [
    "#Using Chi Squared test of independence to test the correlation between features\n",
    "\n",
    "from scipy.stats import chi2_contingency\n",
    "\n",
    "def chisq_of_df_cols(df, c1, c2):\n",
    "    groupsizes = df.groupby([c1, c2]).size()\n",
    "    ctsum = groupsizes.unstack(c1)\n",
    "    # fillna(0) is necessary to remove any NAs which will cause exceptions\n",
    "    return(chi2_contingency(ctsum.fillna(0)))"
   ]
  },
  {
   "cell_type": "code",
   "execution_count": 104,
   "metadata": {},
   "outputs": [
    {
     "data": {
      "text/plain": [
       "(2906.7855604803267,\n",
       " 0.0,\n",
       " 25,\n",
       " array([[2.33818094e+03, 2.17977156e+03, 2.48929036e+02, 2.26299124e+01,\n",
       "         6.08817642e+02, 4.92967091e+03],\n",
       "        [2.90121890e+03, 2.70466426e+03, 3.08871572e+02, 2.80792338e+01,\n",
       "         7.55421968e+02, 6.11674406e+03],\n",
       "        [4.43502757e+02, 4.13455895e+02, 4.72164970e+01, 4.29240882e+00,\n",
       "         1.15479644e+02, 9.35052799e+02],\n",
       "        [4.55048770e+01, 4.24219678e+01, 4.84457167e+00, 4.40415606e-01,\n",
       "         1.18486005e+01, 9.59395674e+01],\n",
       "        [6.63329799e+02, 6.18389878e+02, 7.06198756e+01, 6.41998869e+00,\n",
       "         1.72718405e+02, 1.39852205e+03],\n",
       "        [1.42627226e+01, 1.32964377e+01, 1.51844784e+00, 1.38040712e-01,\n",
       "         3.71374046e+00, 3.00706107e+01]]))"
      ]
     },
     "execution_count": 104,
     "metadata": {},
     "output_type": "execute_result"
    }
   ],
   "source": [
    "chisq_of_df_cols(df, 'PERP_AGE_GROUP','VIC_AGE_GROUP')"
   ]
  },
  {
   "cell_type": "code",
   "execution_count": 105,
   "metadata": {
    "scrolled": true
   },
   "outputs": [
    {
     "data": {
      "text/plain": [
       "(109.53735315278276,\n",
       " 9.133901424592773e-23,\n",
       " 4,\n",
       " array([[4.25165394e+01, 1.54563528e+03, 1.13984818e+03],\n",
       "        [3.98312023e+02, 1.44801323e+04, 1.06785557e+04],\n",
       "        [1.71437659e-01, 6.23240034e+00, 4.59616200e+00]]))"
      ]
     },
     "execution_count": 105,
     "metadata": {},
     "output_type": "execute_result"
    }
   ],
   "source": [
    "chisq_of_df_cols(df, 'PERP_SEX','VIC_SEX')"
   ]
  },
  {
   "cell_type": "markdown",
   "metadata": {},
   "source": [
    "Since the p-value of perpetrator's age and victim's age is 0, we can infer that they are correlated. So let's plot a graph and see what we can find out from the data."
   ]
  },
  {
   "cell_type": "code",
   "execution_count": 106,
   "metadata": {},
   "outputs": [
    {
     "data": {
      "text/plain": [
       "<AxesSubplot:xlabel='VIC_AGE_GROUP', ylabel='count'>"
      ]
     },
     "execution_count": 106,
     "metadata": {},
     "output_type": "execute_result"
    },
    {
     "data": {
      "image/png": "[encoded data removed]",
      "text/plain": [
       "<Figure size 432x288 with 1 Axes>"
      ]
     },
     "metadata": {
      "needs_background": "light"
     },
     "output_type": "display_data"
    }
   ],
   "source": [
    "#Counting the number of incidents by Perpetrator age group on each on victim age group\n",
    "sns.countplot(x = 'VIC_AGE_GROUP',hue = 'PERP_AGE_GROUP', data = df)"
   ]
  },
  {
   "cell_type": "markdown",
   "metadata": {},
   "source": [
    "It can be observed that the age of the perpetrator and victim is usually in the same range. For example, the victim's age group\n",
    "of 25-44 years, the maximum shooting incidents where done by the perpetrators in the age group of 25-44. Same is the case with\n",
    "the age groups of 18-24 (ignoring the unknown age group)"
   ]
  },
  {
   "cell_type": "code",
   "execution_count": 107,
   "metadata": {},
   "outputs": [
    {
     "data": {
      "text/plain": [
       "<AxesSubplot:xlabel='VIC_SEX', ylabel='count'>"
      ]
     },
     "execution_count": 107,
     "metadata": {},
     "output_type": "execute_result"
    },
    {
     "data": {
      "image/png": "[encoded data removed]",
      "text/plain": [
       "<Figure size 1800x360 with 2 Axes>"
      ]
     },
     "metadata": {
      "needs_background": "light"
     },
     "output_type": "display_data"
    }
   ],
   "source": [
    "#Let's count the number of incidents by the sex of the perpetrator and victim\n",
    "fig, axes = plt.subplots(1, 2, figsize = (25,5), sharey = True)\n",
    "sns.countplot(x = 'PERP_SEX', data = df, ax = axes[0])\n",
    "sns.countplot(x = 'VIC_SEX', data = df, ax = axes[1])"
   ]
  },
  {
   "cell_type": "markdown",
   "metadata": {},
   "source": [
    "Most of the perpetrators involved in these shooting incidents have been males(again ignoring the unknown) and majority of the victims have been males as well. One can also see that the female count in prepetrator is much less than in victims. "
   ]
  },
  {
   "cell_type": "code",
   "execution_count": 108,
   "metadata": {},
   "outputs": [
    {
     "data": {
      "text/plain": [
       "<matplotlib.legend.Legend at 0x1fd40a74f70>"
      ]
     },
     "execution_count": 108,
     "metadata": {},
     "output_type": "execute_result"
    },
    {
     "data": {
      "image/png": "[encoded data removed]",
      "text/plain": [
       "<Figure size 1440x720 with 1 Axes>"
      ]
     },
     "metadata": {
      "needs_background": "light"
     },
     "output_type": "display_data"
    }
   ],
   "source": [
    "#Plotting victim race against perp race to see which race is involved more\n",
    "plt.figure(figsize=(20,10))\n",
    "sns.countplot(x = 'VIC_RACE',hue = 'PERP_RACE', data = df)\n",
    "plt.legend(loc = 'upper right')"
   ]
  },
  {
   "cell_type": "markdown",
   "metadata": {},
   "source": [
    "It can be seen that the race of people involved in these incidents is mostly Black, followed by Hispanics(both victims and\n",
    "perpetrators)"
   ]
  },
  {
   "cell_type": "code",
   "execution_count": 109,
   "metadata": {},
   "outputs": [],
   "source": [
    "#Data preparation for visualizing number of incidents based on the hour and day of the week\n",
    "dft = dfi.groupby(by = [dfi['hour'],dfi['day_of_week']])['INCIDENT_KEY'].count().rename('Counts').to_frame()"
   ]
  },
  {
   "cell_type": "code",
   "execution_count": 110,
   "metadata": {
    "scrolled": false
   },
   "outputs": [
    {
     "data": {
      "text/plain": [
       "<AxesSubplot:xlabel='hour', ylabel='Counts'>"
      ]
     },
     "execution_count": 110,
     "metadata": {},
     "output_type": "execute_result"
    },
    {
     "data": {
      "image/png": "[encoded data removed]",
      "text/plain": [
       "<Figure size 864x576 with 1 Axes>"
      ]
     },
     "metadata": {
      "needs_background": "light"
     },
     "output_type": "display_data"
    }
   ],
   "source": [
    "#plotting the data\n",
    "plt.figure(figsize = (12,8))\n",
    "sns.lineplot( x = 'hour', y = 'Counts' , data = dft, hue = 'day_of_week')"
   ]
  },
  {
   "cell_type": "markdown",
   "metadata": {},
   "source": [
    "Most number of incidents happen on the weekends looking at the graph above. It is almost twice the number that happen on weekdays."
   ]
  },
  {
   "cell_type": "markdown",
   "metadata": {},
   "source": [
    "Observations:\n",
    "1. There was a downward trend of the number of shootings each year until 2019 and they rose again in 2020\n",
    "2. The most number of shooting incidents happen in the summer usually in June, July, August and September months.\n",
    "3. Most of them happen during the hours from 2200 to 0400 on Friday leading into Saturday and on Saturday leading into Sunday. So it is safe to say that most of them happen on weekends.\n",
    "4. Black population is the most impacted by shootings, both as perpetrators and victims.\n",
    "5. More than 90% of the people involved in shooting incidents are males\n",
    "6. Most affected people are in the age group of 18 to 44 years. Perpetrators are more likely to shoot people in their own age group."
   ]
  },
  {
   "cell_type": "markdown",
   "metadata": {},
   "source": [
    "Recommendations:\n",
    "\n",
    "1. Additional legislature could be passed to make gun control more effective, stricter screening measures would certainly help.\n",
    "2. Additional security resources and measurements to tackle and prevent such incidents especially in the boroughs with high        incident rate (Bronx and Brooklyn) and between 2200 to 0400 hours in places such as clubs and restaurants that are open late\n",
    "   in the night.\n",
    "3. Police department can hire more personnels to take night shifts on weekends during the months of May to August. They can\n",
    "   start by focussing on precinct 73 and 75 where the incident rates are highest.\n",
    "4. Even though causation cannot be outrightly implied, underlying issues like education, low household income, ratio of minimum    wage to cost of living, increase in unemployment rates would need to be addressed.\n",
    "5. Based on the age group of the perpetrators and the predominant gender and race, empowerment programs such as scholarship,      mentorship, job creation, higher education awareness, workshops can be targetted towards this specific group."
   ]
  },
  {
   "cell_type": "code",
   "execution_count": null,
   "metadata": {},
   "outputs": [],
   "source": []
  }
 ],
 "metadata": {
  "kernelspec": {
   "display_name": "Python 3",
   "language": "python",
   "name": "python3"
  },
  "language_info": {
   "codemirror_mode": {
    "name": "ipython",
    "version": 3
   },
   "file_extension": ".py",
   "mimetype": "text/x-python",
   "name": "python",
   "nbconvert_exporter": "python",
   "pygments_lexer": "ipython3",
   "version": "3.8.5"
  }
 },
 "nbformat": 4,
 "nbformat_minor": 4
}
