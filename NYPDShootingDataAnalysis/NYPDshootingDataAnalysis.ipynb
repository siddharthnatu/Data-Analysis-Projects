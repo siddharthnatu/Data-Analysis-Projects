{
 "cells": [
  {
   "cell_type": "code",
   "execution_count": 43,
   "metadata": {},
   "outputs": [],
   "source": [
    "import numpy as np\n",
    "import pandas as pd\n",
    "import matplotlib.pyplot as plt\n",
    "import seaborn as sns\n",
    "import datetime\n",
    "%matplotlib inline"
   ]
  },
  {
   "cell_type": "code",
   "execution_count": 44,
   "metadata": {},
   "outputs": [],
   "source": [
    "hdf = pd.read_csv('C:/Users/sidna/Downloads/NYPD_Shooting_Incident_Data__Historic_.csv')\n",
    "ydf = pd.read_csv('C:/Users/sidna/Downloads/NYPD_Shooting_Incident_Data__Year_To_Date_.csv')"
   ]
  },
  {
   "cell_type": "code",
   "execution_count": 45,
   "metadata": {
    "scrolled": true
   },
   "outputs": [
    {
     "data": {
      "text/html": [
       "<div>\n",
       "<style scoped>\n",
       "    .dataframe tbody tr th:only-of-type {\n",
       "        vertical-align: middle;\n",
       "    }\n",
       "\n",
       "    .dataframe tbody tr th {\n",
       "        vertical-align: top;\n",
       "    }\n",
       "\n",
       "    .dataframe thead th {\n",
       "        text-align: right;\n",
       "    }\n",
       "</style>\n",
       "<table border=\"1\" class=\"dataframe\">\n",
       "  <thead>\n",
       "    <tr style=\"text-align: right;\">\n",
       "      <th></th>\n",
       "      <th>INCIDENT_KEY</th>\n",
       "      <th>OCCUR_DATE</th>\n",
       "      <th>OCCUR_TIME</th>\n",
       "      <th>BORO</th>\n",
       "      <th>PRECINCT</th>\n",
       "      <th>JURISDICTION_CODE</th>\n",
       "      <th>LOCATION_DESC</th>\n",
       "      <th>STATISTICAL_MURDER_FLAG</th>\n",
       "      <th>PERP_AGE_GROUP</th>\n",
       "      <th>PERP_SEX</th>\n",
       "      <th>PERP_RACE</th>\n",
       "      <th>VIC_AGE_GROUP</th>\n",
       "      <th>VIC_SEX</th>\n",
       "      <th>VIC_RACE</th>\n",
       "      <th>X_COORD_CD</th>\n",
       "      <th>Y_COORD_CD</th>\n",
       "      <th>Latitude</th>\n",
       "      <th>Longitude</th>\n",
       "      <th>Lon_Lat</th>\n",
       "    </tr>\n",
       "  </thead>\n",
       "  <tbody>\n",
       "    <tr>\n",
       "      <th>0</th>\n",
       "      <td>74146165</td>\n",
       "      <td>08/14/2010</td>\n",
       "      <td>3:11:00</td>\n",
       "      <td>QUEENS</td>\n",
       "      <td>113</td>\n",
       "      <td>0.0</td>\n",
       "      <td>NaN</td>\n",
       "      <td>False</td>\n",
       "      <td>NaN</td>\n",
       "      <td>NaN</td>\n",
       "      <td>NaN</td>\n",
       "      <td>25-44</td>\n",
       "      <td>M</td>\n",
       "      <td>BLACK</td>\n",
       "      <td>1046573</td>\n",
       "      <td>183057</td>\n",
       "      <td>40.668915</td>\n",
       "      <td>-73.775341</td>\n",
       "      <td>POINT (-73.77534099699994 40.66891477200004)</td>\n",
       "    </tr>\n",
       "    <tr>\n",
       "      <th>1</th>\n",
       "      <td>66928846</td>\n",
       "      <td>10/17/2009</td>\n",
       "      <td>18:03:00</td>\n",
       "      <td>BROOKLYN</td>\n",
       "      <td>67</td>\n",
       "      <td>0.0</td>\n",
       "      <td>NaN</td>\n",
       "      <td>True</td>\n",
       "      <td>NaN</td>\n",
       "      <td>NaN</td>\n",
       "      <td>NaN</td>\n",
       "      <td>45-64</td>\n",
       "      <td>M</td>\n",
       "      <td>BLACK</td>\n",
       "      <td>1003313</td>\n",
       "      <td>176413</td>\n",
       "      <td>40.650877</td>\n",
       "      <td>-73.931302</td>\n",
       "      <td>POINT (-73.93130224699998 40.65087729100002)</td>\n",
       "    </tr>\n",
       "    <tr>\n",
       "      <th>2</th>\n",
       "      <td>29114164</td>\n",
       "      <td>05/18/2007</td>\n",
       "      <td>23:00:00</td>\n",
       "      <td>BROOKLYN</td>\n",
       "      <td>75</td>\n",
       "      <td>0.0</td>\n",
       "      <td>NaN</td>\n",
       "      <td>False</td>\n",
       "      <td>NaN</td>\n",
       "      <td>NaN</td>\n",
       "      <td>NaN</td>\n",
       "      <td>25-44</td>\n",
       "      <td>M</td>\n",
       "      <td>BLACK</td>\n",
       "      <td>1016292</td>\n",
       "      <td>176228</td>\n",
       "      <td>40.650332</td>\n",
       "      <td>-73.884529</td>\n",
       "      <td>POINT (-73.884529479 40.65033205800006)</td>\n",
       "    </tr>\n",
       "    <tr>\n",
       "      <th>3</th>\n",
       "      <td>85180336</td>\n",
       "      <td>06/09/2012</td>\n",
       "      <td>17:15:00</td>\n",
       "      <td>BROOKLYN</td>\n",
       "      <td>81</td>\n",
       "      <td>0.0</td>\n",
       "      <td>NaN</td>\n",
       "      <td>False</td>\n",
       "      <td>NaN</td>\n",
       "      <td>NaN</td>\n",
       "      <td>NaN</td>\n",
       "      <td>25-44</td>\n",
       "      <td>M</td>\n",
       "      <td>BLACK</td>\n",
       "      <td>1005597</td>\n",
       "      <td>188673</td>\n",
       "      <td>40.684523</td>\n",
       "      <td>-73.923032</td>\n",
       "      <td>POINT (-73.92303235699995 40.68452304300007)</td>\n",
       "    </tr>\n",
       "    <tr>\n",
       "      <th>4</th>\n",
       "      <td>73405770</td>\n",
       "      <td>06/27/2010</td>\n",
       "      <td>4:14:00</td>\n",
       "      <td>BRONX</td>\n",
       "      <td>47</td>\n",
       "      <td>0.0</td>\n",
       "      <td>NaN</td>\n",
       "      <td>False</td>\n",
       "      <td>NaN</td>\n",
       "      <td>NaN</td>\n",
       "      <td>NaN</td>\n",
       "      <td>25-44</td>\n",
       "      <td>M</td>\n",
       "      <td>BLACK</td>\n",
       "      <td>1023551</td>\n",
       "      <td>263366</td>\n",
       "      <td>40.889474</td>\n",
       "      <td>-73.857860</td>\n",
       "      <td>POINT (-73.85786021699995 40.88947350500007)</td>\n",
       "    </tr>\n",
       "  </tbody>\n",
       "</table>\n",
       "</div>"
      ],
      "text/plain": [
       "   INCIDENT_KEY  OCCUR_DATE OCCUR_TIME      BORO  PRECINCT  JURISDICTION_CODE  \\\n",
       "0      74146165  08/14/2010    3:11:00    QUEENS       113                0.0   \n",
       "1      66928846  10/17/2009   18:03:00  BROOKLYN        67                0.0   \n",
       "2      29114164  05/18/2007   23:00:00  BROOKLYN        75                0.0   \n",
       "3      85180336  06/09/2012   17:15:00  BROOKLYN        81                0.0   \n",
       "4      73405770  06/27/2010    4:14:00     BRONX        47                0.0   \n",
       "\n",
       "  LOCATION_DESC  STATISTICAL_MURDER_FLAG PERP_AGE_GROUP PERP_SEX PERP_RACE  \\\n",
       "0           NaN                    False            NaN      NaN       NaN   \n",
       "1           NaN                     True            NaN      NaN       NaN   \n",
       "2           NaN                    False            NaN      NaN       NaN   \n",
       "3           NaN                    False            NaN      NaN       NaN   \n",
       "4           NaN                    False            NaN      NaN       NaN   \n",
       "\n",
       "  VIC_AGE_GROUP VIC_SEX VIC_RACE X_COORD_CD Y_COORD_CD   Latitude  Longitude  \\\n",
       "0         25-44       M    BLACK    1046573     183057  40.668915 -73.775341   \n",
       "1         45-64       M    BLACK    1003313     176413  40.650877 -73.931302   \n",
       "2         25-44       M    BLACK    1016292     176228  40.650332 -73.884529   \n",
       "3         25-44       M    BLACK    1005597     188673  40.684523 -73.923032   \n",
       "4         25-44       M    BLACK    1023551     263366  40.889474 -73.857860   \n",
       "\n",
       "                                        Lon_Lat  \n",
       "0  POINT (-73.77534099699994 40.66891477200004)  \n",
       "1  POINT (-73.93130224699998 40.65087729100002)  \n",
       "2       POINT (-73.884529479 40.65033205800006)  \n",
       "3  POINT (-73.92303235699995 40.68452304300007)  \n",
       "4  POINT (-73.85786021699995 40.88947350500007)  "
      ]
     },
     "execution_count": 45,
     "metadata": {},
     "output_type": "execute_result"
    }
   ],
   "source": [
    "hdf.head()"
   ]
  },
  {
   "cell_type": "code",
   "execution_count": 46,
   "metadata": {},
   "outputs": [
    {
     "data": {
      "text/plain": [
       "(21626, 19)"
      ]
     },
     "execution_count": 46,
     "metadata": {},
     "output_type": "execute_result"
    }
   ],
   "source": [
    "hdf.shape"
   ]
  },
  {
   "cell_type": "code",
   "execution_count": 47,
   "metadata": {
    "scrolled": true
   },
   "outputs": [
    {
     "data": {
      "text/html": [
       "<div>\n",
       "<style scoped>\n",
       "    .dataframe tbody tr th:only-of-type {\n",
       "        vertical-align: middle;\n",
       "    }\n",
       "\n",
       "    .dataframe tbody tr th {\n",
       "        vertical-align: top;\n",
       "    }\n",
       "\n",
       "    .dataframe thead th {\n",
       "        text-align: right;\n",
       "    }\n",
       "</style>\n",
       "<table border=\"1\" class=\"dataframe\">\n",
       "  <thead>\n",
       "    <tr style=\"text-align: right;\">\n",
       "      <th></th>\n",
       "      <th>INCIDENT_KEY</th>\n",
       "      <th>OCCUR_DATE</th>\n",
       "      <th>OCCUR_TIME</th>\n",
       "      <th>BORO</th>\n",
       "      <th>PRECINCT</th>\n",
       "      <th>JURISDICTION_CODE</th>\n",
       "      <th>LOCATION_DESC</th>\n",
       "      <th>STATISTICAL_MURDER_FLAG</th>\n",
       "      <th>PERP_AGE_GROUP</th>\n",
       "      <th>PERP_SEX</th>\n",
       "      <th>PERP_RACE</th>\n",
       "      <th>VIC_AGE_GROUP</th>\n",
       "      <th>VIC_SEX</th>\n",
       "      <th>VIC_RACE</th>\n",
       "      <th>X_COORD_CD</th>\n",
       "      <th>Y_COORD_CD</th>\n",
       "      <th>Latitude</th>\n",
       "      <th>Longitude</th>\n",
       "      <th>New Georeferenced Column</th>\n",
       "    </tr>\n",
       "  </thead>\n",
       "  <tbody>\n",
       "    <tr>\n",
       "      <th>0</th>\n",
       "      <td>216972672</td>\n",
       "      <td>08/24/2020</td>\n",
       "      <td>15:11:00</td>\n",
       "      <td>BRONX</td>\n",
       "      <td>44</td>\n",
       "      <td>0</td>\n",
       "      <td>NaN</td>\n",
       "      <td>False</td>\n",
       "      <td>NaN</td>\n",
       "      <td>NaN</td>\n",
       "      <td>NaN</td>\n",
       "      <td>18-24</td>\n",
       "      <td>M</td>\n",
       "      <td>BLACK</td>\n",
       "      <td>1004279</td>\n",
       "      <td>244490</td>\n",
       "      <td>40.837729</td>\n",
       "      <td>-73.927618</td>\n",
       "      <td>POINT (-73.92761826599997 40.83772938900006)</td>\n",
       "    </tr>\n",
       "    <tr>\n",
       "      <th>1</th>\n",
       "      <td>217953750</td>\n",
       "      <td>09/16/2020</td>\n",
       "      <td>16:50:00</td>\n",
       "      <td>MANHATTAN</td>\n",
       "      <td>33</td>\n",
       "      <td>0</td>\n",
       "      <td>NaN</td>\n",
       "      <td>False</td>\n",
       "      <td>25-44</td>\n",
       "      <td>M</td>\n",
       "      <td>WHITE HISPANIC</td>\n",
       "      <td>25-44</td>\n",
       "      <td>F</td>\n",
       "      <td>WHITE HISPANIC</td>\n",
       "      <td>999855</td>\n",
       "      <td>244888</td>\n",
       "      <td>40.838831</td>\n",
       "      <td>-73.943605</td>\n",
       "      <td>POINT (-73.94360531399997 40.83883070900004)</td>\n",
       "    </tr>\n",
       "    <tr>\n",
       "      <th>2</th>\n",
       "      <td>217540562</td>\n",
       "      <td>09/07/2020</td>\n",
       "      <td>02:49:00</td>\n",
       "      <td>BROOKLYN</td>\n",
       "      <td>71</td>\n",
       "      <td>0</td>\n",
       "      <td>NaN</td>\n",
       "      <td>False</td>\n",
       "      <td>&lt;18</td>\n",
       "      <td>M</td>\n",
       "      <td>BLACK</td>\n",
       "      <td>45-64</td>\n",
       "      <td>F</td>\n",
       "      <td>BLACK</td>\n",
       "      <td>997889</td>\n",
       "      <td>182027</td>\n",
       "      <td>40.666297</td>\n",
       "      <td>-73.950838</td>\n",
       "      <td>POINT (-73.95083788699996 40.66629650100003)</td>\n",
       "    </tr>\n",
       "    <tr>\n",
       "      <th>3</th>\n",
       "      <td>217773056</td>\n",
       "      <td>09/12/2020</td>\n",
       "      <td>00:40:00</td>\n",
       "      <td>BROOKLYN</td>\n",
       "      <td>75</td>\n",
       "      <td>0</td>\n",
       "      <td>NaN</td>\n",
       "      <td>False</td>\n",
       "      <td>NaN</td>\n",
       "      <td>NaN</td>\n",
       "      <td>NaN</td>\n",
       "      <td>25-44</td>\n",
       "      <td>M</td>\n",
       "      <td>BLACK</td>\n",
       "      <td>1015238</td>\n",
       "      <td>180730</td>\n",
       "      <td>40.662693</td>\n",
       "      <td>-73.888307</td>\n",
       "      <td>POINT (-73.88830715999995 40.66269280500006)</td>\n",
       "    </tr>\n",
       "    <tr>\n",
       "      <th>4</th>\n",
       "      <td>218560117</td>\n",
       "      <td>09/30/2020</td>\n",
       "      <td>21:07:00</td>\n",
       "      <td>BROOKLYN</td>\n",
       "      <td>75</td>\n",
       "      <td>2</td>\n",
       "      <td>MULTI DWELL - PUBLIC HOUS</td>\n",
       "      <td>False</td>\n",
       "      <td>NaN</td>\n",
       "      <td>NaN</td>\n",
       "      <td>NaN</td>\n",
       "      <td>25-44</td>\n",
       "      <td>M</td>\n",
       "      <td>BLACK</td>\n",
       "      <td>1019084</td>\n",
       "      <td>183993</td>\n",
       "      <td>40.671635</td>\n",
       "      <td>-73.874428</td>\n",
       "      <td>POINT (-73.87442765599997 40.671634710000035)</td>\n",
       "    </tr>\n",
       "  </tbody>\n",
       "</table>\n",
       "</div>"
      ],
      "text/plain": [
       "   INCIDENT_KEY  OCCUR_DATE OCCUR_TIME       BORO  PRECINCT  \\\n",
       "0     216972672  08/24/2020   15:11:00      BRONX        44   \n",
       "1     217953750  09/16/2020   16:50:00  MANHATTAN        33   \n",
       "2     217540562  09/07/2020   02:49:00   BROOKLYN        71   \n",
       "3     217773056  09/12/2020   00:40:00   BROOKLYN        75   \n",
       "4     218560117  09/30/2020   21:07:00   BROOKLYN        75   \n",
       "\n",
       "   JURISDICTION_CODE              LOCATION_DESC  STATISTICAL_MURDER_FLAG  \\\n",
       "0                  0                        NaN                    False   \n",
       "1                  0                        NaN                    False   \n",
       "2                  0                        NaN                    False   \n",
       "3                  0                        NaN                    False   \n",
       "4                  2  MULTI DWELL - PUBLIC HOUS                    False   \n",
       "\n",
       "  PERP_AGE_GROUP PERP_SEX       PERP_RACE VIC_AGE_GROUP VIC_SEX  \\\n",
       "0            NaN      NaN             NaN         18-24       M   \n",
       "1          25-44        M  WHITE HISPANIC         25-44       F   \n",
       "2            <18        M           BLACK         45-64       F   \n",
       "3            NaN      NaN             NaN         25-44       M   \n",
       "4            NaN      NaN             NaN         25-44       M   \n",
       "\n",
       "         VIC_RACE  X_COORD_CD  Y_COORD_CD   Latitude  Longitude  \\\n",
       "0           BLACK     1004279      244490  40.837729 -73.927618   \n",
       "1  WHITE HISPANIC      999855      244888  40.838831 -73.943605   \n",
       "2           BLACK      997889      182027  40.666297 -73.950838   \n",
       "3           BLACK     1015238      180730  40.662693 -73.888307   \n",
       "4           BLACK     1019084      183993  40.671635 -73.874428   \n",
       "\n",
       "                        New Georeferenced Column  \n",
       "0   POINT (-73.92761826599997 40.83772938900006)  \n",
       "1   POINT (-73.94360531399997 40.83883070900004)  \n",
       "2   POINT (-73.95083788699996 40.66629650100003)  \n",
       "3   POINT (-73.88830715999995 40.66269280500006)  \n",
       "4  POINT (-73.87442765599997 40.671634710000035)  "
      ]
     },
     "execution_count": 47,
     "metadata": {},
     "output_type": "execute_result"
    }
   ],
   "source": [
    "ydf.head()"
   ]
  },
  {
   "cell_type": "code",
   "execution_count": 48,
   "metadata": {},
   "outputs": [],
   "source": [
    "ydf.rename(columns = {'New Georeferenced Column':'Lon_Lat'}, inplace = True)"
   ]
  },
  {
   "cell_type": "code",
   "execution_count": 49,
   "metadata": {},
   "outputs": [
    {
     "data": {
      "text/plain": [
       "(1501, 19)"
      ]
     },
     "execution_count": 49,
     "metadata": {},
     "output_type": "execute_result"
    }
   ],
   "source": [
    "ydf.shape"
   ]
  },
  {
   "cell_type": "code",
   "execution_count": 50,
   "metadata": {},
   "outputs": [],
   "source": [
    "df = pd.concat([hdf, ydf])"
   ]
  },
  {
   "cell_type": "code",
   "execution_count": 51,
   "metadata": {},
   "outputs": [
    {
     "data": {
      "text/html": [
       "<div>\n",
       "<style scoped>\n",
       "    .dataframe tbody tr th:only-of-type {\n",
       "        vertical-align: middle;\n",
       "    }\n",
       "\n",
       "    .dataframe tbody tr th {\n",
       "        vertical-align: top;\n",
       "    }\n",
       "\n",
       "    .dataframe thead th {\n",
       "        text-align: right;\n",
       "    }\n",
       "</style>\n",
       "<table border=\"1\" class=\"dataframe\">\n",
       "  <thead>\n",
       "    <tr style=\"text-align: right;\">\n",
       "      <th></th>\n",
       "      <th>INCIDENT_KEY</th>\n",
       "      <th>OCCUR_DATE</th>\n",
       "      <th>OCCUR_TIME</th>\n",
       "      <th>BORO</th>\n",
       "      <th>PRECINCT</th>\n",
       "      <th>JURISDICTION_CODE</th>\n",
       "      <th>LOCATION_DESC</th>\n",
       "      <th>STATISTICAL_MURDER_FLAG</th>\n",
       "      <th>PERP_AGE_GROUP</th>\n",
       "      <th>PERP_SEX</th>\n",
       "      <th>PERP_RACE</th>\n",
       "      <th>VIC_AGE_GROUP</th>\n",
       "      <th>VIC_SEX</th>\n",
       "      <th>VIC_RACE</th>\n",
       "      <th>X_COORD_CD</th>\n",
       "      <th>Y_COORD_CD</th>\n",
       "      <th>Latitude</th>\n",
       "      <th>Longitude</th>\n",
       "      <th>Lon_Lat</th>\n",
       "    </tr>\n",
       "  </thead>\n",
       "  <tbody>\n",
       "    <tr>\n",
       "      <th>0</th>\n",
       "      <td>74146165</td>\n",
       "      <td>08/14/2010</td>\n",
       "      <td>3:11:00</td>\n",
       "      <td>QUEENS</td>\n",
       "      <td>113</td>\n",
       "      <td>0.0</td>\n",
       "      <td>NaN</td>\n",
       "      <td>False</td>\n",
       "      <td>NaN</td>\n",
       "      <td>NaN</td>\n",
       "      <td>NaN</td>\n",
       "      <td>25-44</td>\n",
       "      <td>M</td>\n",
       "      <td>BLACK</td>\n",
       "      <td>1046573</td>\n",
       "      <td>183057</td>\n",
       "      <td>40.668915</td>\n",
       "      <td>-73.775341</td>\n",
       "      <td>POINT (-73.77534099699994 40.66891477200004)</td>\n",
       "    </tr>\n",
       "    <tr>\n",
       "      <th>1</th>\n",
       "      <td>66928846</td>\n",
       "      <td>10/17/2009</td>\n",
       "      <td>18:03:00</td>\n",
       "      <td>BROOKLYN</td>\n",
       "      <td>67</td>\n",
       "      <td>0.0</td>\n",
       "      <td>NaN</td>\n",
       "      <td>True</td>\n",
       "      <td>NaN</td>\n",
       "      <td>NaN</td>\n",
       "      <td>NaN</td>\n",
       "      <td>45-64</td>\n",
       "      <td>M</td>\n",
       "      <td>BLACK</td>\n",
       "      <td>1003313</td>\n",
       "      <td>176413</td>\n",
       "      <td>40.650877</td>\n",
       "      <td>-73.931302</td>\n",
       "      <td>POINT (-73.93130224699998 40.65087729100002)</td>\n",
       "    </tr>\n",
       "    <tr>\n",
       "      <th>2</th>\n",
       "      <td>29114164</td>\n",
       "      <td>05/18/2007</td>\n",
       "      <td>23:00:00</td>\n",
       "      <td>BROOKLYN</td>\n",
       "      <td>75</td>\n",
       "      <td>0.0</td>\n",
       "      <td>NaN</td>\n",
       "      <td>False</td>\n",
       "      <td>NaN</td>\n",
       "      <td>NaN</td>\n",
       "      <td>NaN</td>\n",
       "      <td>25-44</td>\n",
       "      <td>M</td>\n",
       "      <td>BLACK</td>\n",
       "      <td>1016292</td>\n",
       "      <td>176228</td>\n",
       "      <td>40.650332</td>\n",
       "      <td>-73.884529</td>\n",
       "      <td>POINT (-73.884529479 40.65033205800006)</td>\n",
       "    </tr>\n",
       "    <tr>\n",
       "      <th>3</th>\n",
       "      <td>85180336</td>\n",
       "      <td>06/09/2012</td>\n",
       "      <td>17:15:00</td>\n",
       "      <td>BROOKLYN</td>\n",
       "      <td>81</td>\n",
       "      <td>0.0</td>\n",
       "      <td>NaN</td>\n",
       "      <td>False</td>\n",
       "      <td>NaN</td>\n",
       "      <td>NaN</td>\n",
       "      <td>NaN</td>\n",
       "      <td>25-44</td>\n",
       "      <td>M</td>\n",
       "      <td>BLACK</td>\n",
       "      <td>1005597</td>\n",
       "      <td>188673</td>\n",
       "      <td>40.684523</td>\n",
       "      <td>-73.923032</td>\n",
       "      <td>POINT (-73.92303235699995 40.68452304300007)</td>\n",
       "    </tr>\n",
       "    <tr>\n",
       "      <th>4</th>\n",
       "      <td>73405770</td>\n",
       "      <td>06/27/2010</td>\n",
       "      <td>4:14:00</td>\n",
       "      <td>BRONX</td>\n",
       "      <td>47</td>\n",
       "      <td>0.0</td>\n",
       "      <td>NaN</td>\n",
       "      <td>False</td>\n",
       "      <td>NaN</td>\n",
       "      <td>NaN</td>\n",
       "      <td>NaN</td>\n",
       "      <td>25-44</td>\n",
       "      <td>M</td>\n",
       "      <td>BLACK</td>\n",
       "      <td>1023551</td>\n",
       "      <td>263366</td>\n",
       "      <td>40.889474</td>\n",
       "      <td>-73.857860</td>\n",
       "      <td>POINT (-73.85786021699995 40.88947350500007)</td>\n",
       "    </tr>\n",
       "  </tbody>\n",
       "</table>\n",
       "</div>"
      ],
      "text/plain": [
       "   INCIDENT_KEY  OCCUR_DATE OCCUR_TIME      BORO  PRECINCT  JURISDICTION_CODE  \\\n",
       "0      74146165  08/14/2010    3:11:00    QUEENS       113                0.0   \n",
       "1      66928846  10/17/2009   18:03:00  BROOKLYN        67                0.0   \n",
       "2      29114164  05/18/2007   23:00:00  BROOKLYN        75                0.0   \n",
       "3      85180336  06/09/2012   17:15:00  BROOKLYN        81                0.0   \n",
       "4      73405770  06/27/2010    4:14:00     BRONX        47                0.0   \n",
       "\n",
       "  LOCATION_DESC  STATISTICAL_MURDER_FLAG PERP_AGE_GROUP PERP_SEX PERP_RACE  \\\n",
       "0           NaN                    False            NaN      NaN       NaN   \n",
       "1           NaN                     True            NaN      NaN       NaN   \n",
       "2           NaN                    False            NaN      NaN       NaN   \n",
       "3           NaN                    False            NaN      NaN       NaN   \n",
       "4           NaN                    False            NaN      NaN       NaN   \n",
       "\n",
       "  VIC_AGE_GROUP VIC_SEX VIC_RACE X_COORD_CD Y_COORD_CD   Latitude  Longitude  \\\n",
       "0         25-44       M    BLACK    1046573     183057  40.668915 -73.775341   \n",
       "1         45-64       M    BLACK    1003313     176413  40.650877 -73.931302   \n",
       "2         25-44       M    BLACK    1016292     176228  40.650332 -73.884529   \n",
       "3         25-44       M    BLACK    1005597     188673  40.684523 -73.923032   \n",
       "4         25-44       M    BLACK    1023551     263366  40.889474 -73.857860   \n",
       "\n",
       "                                        Lon_Lat  \n",
       "0  POINT (-73.77534099699994 40.66891477200004)  \n",
       "1  POINT (-73.93130224699998 40.65087729100002)  \n",
       "2       POINT (-73.884529479 40.65033205800006)  \n",
       "3  POINT (-73.92303235699995 40.68452304300007)  \n",
       "4  POINT (-73.85786021699995 40.88947350500007)  "
      ]
     },
     "execution_count": 51,
     "metadata": {},
     "output_type": "execute_result"
    }
   ],
   "source": [
    "df.head()"
   ]
  },
  {
   "cell_type": "code",
   "execution_count": 52,
   "metadata": {},
   "outputs": [
    {
     "data": {
      "text/plain": [
       "(23127, 19)"
      ]
     },
     "execution_count": 52,
     "metadata": {},
     "output_type": "execute_result"
    }
   ],
   "source": [
    "df.shape"
   ]
  },
  {
   "cell_type": "code",
   "execution_count": 53,
   "metadata": {},
   "outputs": [],
   "source": [
    "#Handling missing data values\n",
    "df['LOCATION_DESC'].fillna(value = 'NONE', inplace = True)\n",
    "df['PERP_AGE_GROUP'].fillna(value = 'UNKNOWN', inplace = True)\n",
    "df['PERP_SEX'].fillna(value = 'U', inplace = True)\n",
    "df['PERP_RACE'].fillna(value = 'UNKNOWN', inplace = True)"
   ]
  },
  {
   "cell_type": "code",
   "execution_count": 54,
   "metadata": {},
   "outputs": [
    {
     "data": {
      "text/plain": [
       "UNKNOWN    11367\n",
       "18-24       5367\n",
       "25-44       4522\n",
       "<18         1345\n",
       "45-64        469\n",
       "65+           54\n",
       "940            1\n",
       "224            1\n",
       "1020           1\n",
       "Name: PERP_AGE_GROUP, dtype: int64"
      ]
     },
     "execution_count": 54,
     "metadata": {},
     "output_type": "execute_result"
    }
   ],
   "source": [
    "df['PERP_AGE_GROUP'].value_counts()"
   ]
  },
  {
   "cell_type": "code",
   "execution_count": 55,
   "metadata": {},
   "outputs": [],
   "source": [
    "df.drop(hdf[hdf['PERP_AGE_GROUP'] == '1020'].index, inplace = True)\n",
    "df.drop(hdf[hdf['PERP_AGE_GROUP'] == '940'].index, inplace = True)\n",
    "df.drop(hdf[hdf['PERP_AGE_GROUP'] == '224'].index, inplace = True)"
   ]
  },
  {
   "cell_type": "code",
   "execution_count": 56,
   "metadata": {},
   "outputs": [],
   "source": [
    "#Extracting year, month and days from the date of occurence\n",
    "df['year'] = pd.DatetimeIndex(df['OCCUR_DATE']).year\n",
    "df['month'] = pd.DatetimeIndex(df['OCCUR_DATE']).month\n",
    "df['day'] = pd.DatetimeIndex(df['OCCUR_DATE']).day\n",
    "\n",
    "#Extracting day of week from the date\n",
    "df['OCCUR_DATE'] = pd.to_datetime(df['OCCUR_DATE'])\n",
    "\n",
    "df['day_of_week'] = df['OCCUR_DATE'].dt.day_name()\n",
    "\n",
    "#Extracting hours and minutes of the incident from the occurence time\n",
    "df['OCCUR_TIME'] = pd.to_datetime(df['OCCUR_TIME'])\n",
    "df['hour'] = df['OCCUR_TIME'].dt.strftime('%H')\n",
    "df['minutes'] = df['OCCUR_TIME'].dt.strftime('%M')"
   ]
  },
  {
   "cell_type": "code",
   "execution_count": 57,
   "metadata": {},
   "outputs": [
    {
     "data": {
      "text/html": [
       "<div>\n",
       "<style scoped>\n",
       "    .dataframe tbody tr th:only-of-type {\n",
       "        vertical-align: middle;\n",
       "    }\n",
       "\n",
       "    .dataframe tbody tr th {\n",
       "        vertical-align: top;\n",
       "    }\n",
       "\n",
       "    .dataframe thead th {\n",
       "        text-align: right;\n",
       "    }\n",
       "</style>\n",
       "<table border=\"1\" class=\"dataframe\">\n",
       "  <thead>\n",
       "    <tr style=\"text-align: right;\">\n",
       "      <th></th>\n",
       "      <th>INCIDENT_KEY</th>\n",
       "      <th>OCCUR_DATE</th>\n",
       "      <th>OCCUR_TIME</th>\n",
       "      <th>BORO</th>\n",
       "      <th>PRECINCT</th>\n",
       "      <th>JURISDICTION_CODE</th>\n",
       "      <th>LOCATION_DESC</th>\n",
       "      <th>STATISTICAL_MURDER_FLAG</th>\n",
       "      <th>PERP_AGE_GROUP</th>\n",
       "      <th>PERP_SEX</th>\n",
       "      <th>...</th>\n",
       "      <th>Y_COORD_CD</th>\n",
       "      <th>Latitude</th>\n",
       "      <th>Longitude</th>\n",
       "      <th>Lon_Lat</th>\n",
       "      <th>year</th>\n",
       "      <th>month</th>\n",
       "      <th>day</th>\n",
       "      <th>day_of_week</th>\n",
       "      <th>hour</th>\n",
       "      <th>minutes</th>\n",
       "    </tr>\n",
       "  </thead>\n",
       "  <tbody>\n",
       "    <tr>\n",
       "      <th>0</th>\n",
       "      <td>74146165</td>\n",
       "      <td>2010-08-14</td>\n",
       "      <td>2020-12-18 03:11:00</td>\n",
       "      <td>QUEENS</td>\n",
       "      <td>113</td>\n",
       "      <td>0.0</td>\n",
       "      <td>NONE</td>\n",
       "      <td>False</td>\n",
       "      <td>UNKNOWN</td>\n",
       "      <td>U</td>\n",
       "      <td>...</td>\n",
       "      <td>183057</td>\n",
       "      <td>40.668915</td>\n",
       "      <td>-73.775341</td>\n",
       "      <td>POINT (-73.77534099699994 40.66891477200004)</td>\n",
       "      <td>2010</td>\n",
       "      <td>8</td>\n",
       "      <td>14</td>\n",
       "      <td>Saturday</td>\n",
       "      <td>03</td>\n",
       "      <td>11</td>\n",
       "    </tr>\n",
       "    <tr>\n",
       "      <th>1</th>\n",
       "      <td>66928846</td>\n",
       "      <td>2009-10-17</td>\n",
       "      <td>2020-12-18 18:03:00</td>\n",
       "      <td>BROOKLYN</td>\n",
       "      <td>67</td>\n",
       "      <td>0.0</td>\n",
       "      <td>NONE</td>\n",
       "      <td>True</td>\n",
       "      <td>UNKNOWN</td>\n",
       "      <td>U</td>\n",
       "      <td>...</td>\n",
       "      <td>176413</td>\n",
       "      <td>40.650877</td>\n",
       "      <td>-73.931302</td>\n",
       "      <td>POINT (-73.93130224699998 40.65087729100002)</td>\n",
       "      <td>2009</td>\n",
       "      <td>10</td>\n",
       "      <td>17</td>\n",
       "      <td>Saturday</td>\n",
       "      <td>18</td>\n",
       "      <td>03</td>\n",
       "    </tr>\n",
       "    <tr>\n",
       "      <th>2</th>\n",
       "      <td>29114164</td>\n",
       "      <td>2007-05-18</td>\n",
       "      <td>2020-12-18 23:00:00</td>\n",
       "      <td>BROOKLYN</td>\n",
       "      <td>75</td>\n",
       "      <td>0.0</td>\n",
       "      <td>NONE</td>\n",
       "      <td>False</td>\n",
       "      <td>UNKNOWN</td>\n",
       "      <td>U</td>\n",
       "      <td>...</td>\n",
       "      <td>176228</td>\n",
       "      <td>40.650332</td>\n",
       "      <td>-73.884529</td>\n",
       "      <td>POINT (-73.884529479 40.65033205800006)</td>\n",
       "      <td>2007</td>\n",
       "      <td>5</td>\n",
       "      <td>18</td>\n",
       "      <td>Friday</td>\n",
       "      <td>23</td>\n",
       "      <td>00</td>\n",
       "    </tr>\n",
       "    <tr>\n",
       "      <th>3</th>\n",
       "      <td>85180336</td>\n",
       "      <td>2012-06-09</td>\n",
       "      <td>2020-12-18 17:15:00</td>\n",
       "      <td>BROOKLYN</td>\n",
       "      <td>81</td>\n",
       "      <td>0.0</td>\n",
       "      <td>NONE</td>\n",
       "      <td>False</td>\n",
       "      <td>UNKNOWN</td>\n",
       "      <td>U</td>\n",
       "      <td>...</td>\n",
       "      <td>188673</td>\n",
       "      <td>40.684523</td>\n",
       "      <td>-73.923032</td>\n",
       "      <td>POINT (-73.92303235699995 40.68452304300007)</td>\n",
       "      <td>2012</td>\n",
       "      <td>6</td>\n",
       "      <td>9</td>\n",
       "      <td>Saturday</td>\n",
       "      <td>17</td>\n",
       "      <td>15</td>\n",
       "    </tr>\n",
       "    <tr>\n",
       "      <th>4</th>\n",
       "      <td>73405770</td>\n",
       "      <td>2010-06-27</td>\n",
       "      <td>2020-12-18 04:14:00</td>\n",
       "      <td>BRONX</td>\n",
       "      <td>47</td>\n",
       "      <td>0.0</td>\n",
       "      <td>NONE</td>\n",
       "      <td>False</td>\n",
       "      <td>UNKNOWN</td>\n",
       "      <td>U</td>\n",
       "      <td>...</td>\n",
       "      <td>263366</td>\n",
       "      <td>40.889474</td>\n",
       "      <td>-73.857860</td>\n",
       "      <td>POINT (-73.85786021699995 40.88947350500007)</td>\n",
       "      <td>2010</td>\n",
       "      <td>6</td>\n",
       "      <td>27</td>\n",
       "      <td>Sunday</td>\n",
       "      <td>04</td>\n",
       "      <td>14</td>\n",
       "    </tr>\n",
       "  </tbody>\n",
       "</table>\n",
       "<p>5 rows × 25 columns</p>\n",
       "</div>"
      ],
      "text/plain": [
       "   INCIDENT_KEY OCCUR_DATE          OCCUR_TIME      BORO  PRECINCT  \\\n",
       "0      74146165 2010-08-14 2020-12-18 03:11:00    QUEENS       113   \n",
       "1      66928846 2009-10-17 2020-12-18 18:03:00  BROOKLYN        67   \n",
       "2      29114164 2007-05-18 2020-12-18 23:00:00  BROOKLYN        75   \n",
       "3      85180336 2012-06-09 2020-12-18 17:15:00  BROOKLYN        81   \n",
       "4      73405770 2010-06-27 2020-12-18 04:14:00     BRONX        47   \n",
       "\n",
       "   JURISDICTION_CODE LOCATION_DESC  STATISTICAL_MURDER_FLAG PERP_AGE_GROUP  \\\n",
       "0                0.0          NONE                    False        UNKNOWN   \n",
       "1                0.0          NONE                     True        UNKNOWN   \n",
       "2                0.0          NONE                    False        UNKNOWN   \n",
       "3                0.0          NONE                    False        UNKNOWN   \n",
       "4                0.0          NONE                    False        UNKNOWN   \n",
       "\n",
       "  PERP_SEX  ... Y_COORD_CD   Latitude  Longitude  \\\n",
       "0        U  ...     183057  40.668915 -73.775341   \n",
       "1        U  ...     176413  40.650877 -73.931302   \n",
       "2        U  ...     176228  40.650332 -73.884529   \n",
       "3        U  ...     188673  40.684523 -73.923032   \n",
       "4        U  ...     263366  40.889474 -73.857860   \n",
       "\n",
       "                                        Lon_Lat  year month  day  day_of_week  \\\n",
       "0  POINT (-73.77534099699994 40.66891477200004)  2010     8   14     Saturday   \n",
       "1  POINT (-73.93130224699998 40.65087729100002)  2009    10   17     Saturday   \n",
       "2       POINT (-73.884529479 40.65033205800006)  2007     5   18       Friday   \n",
       "3  POINT (-73.92303235699995 40.68452304300007)  2012     6    9     Saturday   \n",
       "4  POINT (-73.85786021699995 40.88947350500007)  2010     6   27       Sunday   \n",
       "\n",
       "  hour  minutes  \n",
       "0   03       11  \n",
       "1   18       03  \n",
       "2   23       00  \n",
       "3   17       15  \n",
       "4   04       14  \n",
       "\n",
       "[5 rows x 25 columns]"
      ]
     },
     "execution_count": 57,
     "metadata": {},
     "output_type": "execute_result"
    }
   ],
   "source": [
    "df.head()"
   ]
  },
  {
   "cell_type": "code",
   "execution_count": 58,
   "metadata": {},
   "outputs": [],
   "source": [
    "columns = ['OCCUR_DATE', 'OCCUR_TIME']\n",
    "df.drop(columns, axis =1, inplace = True)"
   ]
  },
  {
   "cell_type": "code",
   "execution_count": 59,
   "metadata": {
    "scrolled": true
   },
   "outputs": [
    {
     "data": {
      "text/html": [
       "<div>\n",
       "<style scoped>\n",
       "    .dataframe tbody tr th:only-of-type {\n",
       "        vertical-align: middle;\n",
       "    }\n",
       "\n",
       "    .dataframe tbody tr th {\n",
       "        vertical-align: top;\n",
       "    }\n",
       "\n",
       "    .dataframe thead th {\n",
       "        text-align: right;\n",
       "    }\n",
       "</style>\n",
       "<table border=\"1\" class=\"dataframe\">\n",
       "  <thead>\n",
       "    <tr style=\"text-align: right;\">\n",
       "      <th></th>\n",
       "      <th>INCIDENT_KEY</th>\n",
       "      <th>BORO</th>\n",
       "      <th>PRECINCT</th>\n",
       "      <th>JURISDICTION_CODE</th>\n",
       "      <th>LOCATION_DESC</th>\n",
       "      <th>STATISTICAL_MURDER_FLAG</th>\n",
       "      <th>PERP_AGE_GROUP</th>\n",
       "      <th>PERP_SEX</th>\n",
       "      <th>PERP_RACE</th>\n",
       "      <th>VIC_AGE_GROUP</th>\n",
       "      <th>...</th>\n",
       "      <th>Y_COORD_CD</th>\n",
       "      <th>Latitude</th>\n",
       "      <th>Longitude</th>\n",
       "      <th>Lon_Lat</th>\n",
       "      <th>year</th>\n",
       "      <th>month</th>\n",
       "      <th>day</th>\n",
       "      <th>day_of_week</th>\n",
       "      <th>hour</th>\n",
       "      <th>minutes</th>\n",
       "    </tr>\n",
       "  </thead>\n",
       "  <tbody>\n",
       "    <tr>\n",
       "      <th>0</th>\n",
       "      <td>74146165</td>\n",
       "      <td>QUEENS</td>\n",
       "      <td>113</td>\n",
       "      <td>0.0</td>\n",
       "      <td>NONE</td>\n",
       "      <td>False</td>\n",
       "      <td>UNKNOWN</td>\n",
       "      <td>U</td>\n",
       "      <td>UNKNOWN</td>\n",
       "      <td>25-44</td>\n",
       "      <td>...</td>\n",
       "      <td>183057</td>\n",
       "      <td>40.668915</td>\n",
       "      <td>-73.775341</td>\n",
       "      <td>POINT (-73.77534099699994 40.66891477200004)</td>\n",
       "      <td>2010</td>\n",
       "      <td>8</td>\n",
       "      <td>14</td>\n",
       "      <td>Saturday</td>\n",
       "      <td>03</td>\n",
       "      <td>11</td>\n",
       "    </tr>\n",
       "    <tr>\n",
       "      <th>1</th>\n",
       "      <td>66928846</td>\n",
       "      <td>BROOKLYN</td>\n",
       "      <td>67</td>\n",
       "      <td>0.0</td>\n",
       "      <td>NONE</td>\n",
       "      <td>True</td>\n",
       "      <td>UNKNOWN</td>\n",
       "      <td>U</td>\n",
       "      <td>UNKNOWN</td>\n",
       "      <td>45-64</td>\n",
       "      <td>...</td>\n",
       "      <td>176413</td>\n",
       "      <td>40.650877</td>\n",
       "      <td>-73.931302</td>\n",
       "      <td>POINT (-73.93130224699998 40.65087729100002)</td>\n",
       "      <td>2009</td>\n",
       "      <td>10</td>\n",
       "      <td>17</td>\n",
       "      <td>Saturday</td>\n",
       "      <td>18</td>\n",
       "      <td>03</td>\n",
       "    </tr>\n",
       "    <tr>\n",
       "      <th>2</th>\n",
       "      <td>29114164</td>\n",
       "      <td>BROOKLYN</td>\n",
       "      <td>75</td>\n",
       "      <td>0.0</td>\n",
       "      <td>NONE</td>\n",
       "      <td>False</td>\n",
       "      <td>UNKNOWN</td>\n",
       "      <td>U</td>\n",
       "      <td>UNKNOWN</td>\n",
       "      <td>25-44</td>\n",
       "      <td>...</td>\n",
       "      <td>176228</td>\n",
       "      <td>40.650332</td>\n",
       "      <td>-73.884529</td>\n",
       "      <td>POINT (-73.884529479 40.65033205800006)</td>\n",
       "      <td>2007</td>\n",
       "      <td>5</td>\n",
       "      <td>18</td>\n",
       "      <td>Friday</td>\n",
       "      <td>23</td>\n",
       "      <td>00</td>\n",
       "    </tr>\n",
       "    <tr>\n",
       "      <th>3</th>\n",
       "      <td>85180336</td>\n",
       "      <td>BROOKLYN</td>\n",
       "      <td>81</td>\n",
       "      <td>0.0</td>\n",
       "      <td>NONE</td>\n",
       "      <td>False</td>\n",
       "      <td>UNKNOWN</td>\n",
       "      <td>U</td>\n",
       "      <td>UNKNOWN</td>\n",
       "      <td>25-44</td>\n",
       "      <td>...</td>\n",
       "      <td>188673</td>\n",
       "      <td>40.684523</td>\n",
       "      <td>-73.923032</td>\n",
       "      <td>POINT (-73.92303235699995 40.68452304300007)</td>\n",
       "      <td>2012</td>\n",
       "      <td>6</td>\n",
       "      <td>9</td>\n",
       "      <td>Saturday</td>\n",
       "      <td>17</td>\n",
       "      <td>15</td>\n",
       "    </tr>\n",
       "    <tr>\n",
       "      <th>4</th>\n",
       "      <td>73405770</td>\n",
       "      <td>BRONX</td>\n",
       "      <td>47</td>\n",
       "      <td>0.0</td>\n",
       "      <td>NONE</td>\n",
       "      <td>False</td>\n",
       "      <td>UNKNOWN</td>\n",
       "      <td>U</td>\n",
       "      <td>UNKNOWN</td>\n",
       "      <td>25-44</td>\n",
       "      <td>...</td>\n",
       "      <td>263366</td>\n",
       "      <td>40.889474</td>\n",
       "      <td>-73.857860</td>\n",
       "      <td>POINT (-73.85786021699995 40.88947350500007)</td>\n",
       "      <td>2010</td>\n",
       "      <td>6</td>\n",
       "      <td>27</td>\n",
       "      <td>Sunday</td>\n",
       "      <td>04</td>\n",
       "      <td>14</td>\n",
       "    </tr>\n",
       "  </tbody>\n",
       "</table>\n",
       "<p>5 rows × 23 columns</p>\n",
       "</div>"
      ],
      "text/plain": [
       "   INCIDENT_KEY      BORO  PRECINCT  JURISDICTION_CODE LOCATION_DESC  \\\n",
       "0      74146165    QUEENS       113                0.0          NONE   \n",
       "1      66928846  BROOKLYN        67                0.0          NONE   \n",
       "2      29114164  BROOKLYN        75                0.0          NONE   \n",
       "3      85180336  BROOKLYN        81                0.0          NONE   \n",
       "4      73405770     BRONX        47                0.0          NONE   \n",
       "\n",
       "   STATISTICAL_MURDER_FLAG PERP_AGE_GROUP PERP_SEX PERP_RACE VIC_AGE_GROUP  \\\n",
       "0                    False        UNKNOWN        U   UNKNOWN         25-44   \n",
       "1                     True        UNKNOWN        U   UNKNOWN         45-64   \n",
       "2                    False        UNKNOWN        U   UNKNOWN         25-44   \n",
       "3                    False        UNKNOWN        U   UNKNOWN         25-44   \n",
       "4                    False        UNKNOWN        U   UNKNOWN         25-44   \n",
       "\n",
       "   ... Y_COORD_CD   Latitude  Longitude  \\\n",
       "0  ...     183057  40.668915 -73.775341   \n",
       "1  ...     176413  40.650877 -73.931302   \n",
       "2  ...     176228  40.650332 -73.884529   \n",
       "3  ...     188673  40.684523 -73.923032   \n",
       "4  ...     263366  40.889474 -73.857860   \n",
       "\n",
       "                                        Lon_Lat  year  month day  day_of_week  \\\n",
       "0  POINT (-73.77534099699994 40.66891477200004)  2010      8  14     Saturday   \n",
       "1  POINT (-73.93130224699998 40.65087729100002)  2009     10  17     Saturday   \n",
       "2       POINT (-73.884529479 40.65033205800006)  2007      5  18       Friday   \n",
       "3  POINT (-73.92303235699995 40.68452304300007)  2012      6   9     Saturday   \n",
       "4  POINT (-73.85786021699995 40.88947350500007)  2010      6  27       Sunday   \n",
       "\n",
       "   hour  minutes  \n",
       "0    03       11  \n",
       "1    18       03  \n",
       "2    23       00  \n",
       "3    17       15  \n",
       "4    04       14  \n",
       "\n",
       "[5 rows x 23 columns]"
      ]
     },
     "execution_count": 59,
     "metadata": {},
     "output_type": "execute_result"
    }
   ],
   "source": [
    "df.head()"
   ]
  },
  {
   "cell_type": "markdown",
   "metadata": {},
   "source": [
    "We need to create a subset of the dataset since there are duplicates in the incident_key column. As mentioned in the footnotes, A shooting incident can have multiple victims involved and as a result duplicate INCIDENT_KEY’s are produced and each incident key represents a victim but duplicate keys represent a single incident. So we will create a dataframe where we remove the duplicate incident keys and just keep one record. We will only use this dataset when we have to index the data on incident_key column(example: counting number of incidents based on hour, day, month, year etc.). Using this for analyzing perpetrator or victim data would be not be correct, since the duplicates deleted would have contained the information of multiple victims from one incident and that data is lost in the new data subset."
   ]
  },
  {
   "cell_type": "code",
   "execution_count": 60,
   "metadata": {},
   "outputs": [],
   "source": [
    "dfi = df.drop_duplicates(subset='INCIDENT_KEY', keep=\"last\")"
   ]
  },
  {
   "cell_type": "code",
   "execution_count": 61,
   "metadata": {},
   "outputs": [
    {
     "data": {
      "text/html": [
       "<div>\n",
       "<style scoped>\n",
       "    .dataframe tbody tr th:only-of-type {\n",
       "        vertical-align: middle;\n",
       "    }\n",
       "\n",
       "    .dataframe tbody tr th {\n",
       "        vertical-align: top;\n",
       "    }\n",
       "\n",
       "    .dataframe thead th {\n",
       "        text-align: right;\n",
       "    }\n",
       "</style>\n",
       "<table border=\"1\" class=\"dataframe\">\n",
       "  <thead>\n",
       "    <tr style=\"text-align: right;\">\n",
       "      <th></th>\n",
       "      <th>INCIDENT_KEY</th>\n",
       "      <th>BORO</th>\n",
       "      <th>PRECINCT</th>\n",
       "      <th>JURISDICTION_CODE</th>\n",
       "      <th>LOCATION_DESC</th>\n",
       "      <th>STATISTICAL_MURDER_FLAG</th>\n",
       "      <th>PERP_AGE_GROUP</th>\n",
       "      <th>PERP_SEX</th>\n",
       "      <th>PERP_RACE</th>\n",
       "      <th>VIC_AGE_GROUP</th>\n",
       "      <th>...</th>\n",
       "      <th>Y_COORD_CD</th>\n",
       "      <th>Latitude</th>\n",
       "      <th>Longitude</th>\n",
       "      <th>Lon_Lat</th>\n",
       "      <th>year</th>\n",
       "      <th>month</th>\n",
       "      <th>day</th>\n",
       "      <th>day_of_week</th>\n",
       "      <th>hour</th>\n",
       "      <th>minutes</th>\n",
       "    </tr>\n",
       "  </thead>\n",
       "  <tbody>\n",
       "    <tr>\n",
       "      <th>0</th>\n",
       "      <td>74146165</td>\n",
       "      <td>QUEENS</td>\n",
       "      <td>113</td>\n",
       "      <td>0.0</td>\n",
       "      <td>NONE</td>\n",
       "      <td>False</td>\n",
       "      <td>UNKNOWN</td>\n",
       "      <td>U</td>\n",
       "      <td>UNKNOWN</td>\n",
       "      <td>25-44</td>\n",
       "      <td>...</td>\n",
       "      <td>183057</td>\n",
       "      <td>40.668915</td>\n",
       "      <td>-73.775341</td>\n",
       "      <td>POINT (-73.77534099699994 40.66891477200004)</td>\n",
       "      <td>2010</td>\n",
       "      <td>8</td>\n",
       "      <td>14</td>\n",
       "      <td>Saturday</td>\n",
       "      <td>03</td>\n",
       "      <td>11</td>\n",
       "    </tr>\n",
       "    <tr>\n",
       "      <th>1</th>\n",
       "      <td>66928846</td>\n",
       "      <td>BROOKLYN</td>\n",
       "      <td>67</td>\n",
       "      <td>0.0</td>\n",
       "      <td>NONE</td>\n",
       "      <td>True</td>\n",
       "      <td>UNKNOWN</td>\n",
       "      <td>U</td>\n",
       "      <td>UNKNOWN</td>\n",
       "      <td>45-64</td>\n",
       "      <td>...</td>\n",
       "      <td>176413</td>\n",
       "      <td>40.650877</td>\n",
       "      <td>-73.931302</td>\n",
       "      <td>POINT (-73.93130224699998 40.65087729100002)</td>\n",
       "      <td>2009</td>\n",
       "      <td>10</td>\n",
       "      <td>17</td>\n",
       "      <td>Saturday</td>\n",
       "      <td>18</td>\n",
       "      <td>03</td>\n",
       "    </tr>\n",
       "    <tr>\n",
       "      <th>2</th>\n",
       "      <td>29114164</td>\n",
       "      <td>BROOKLYN</td>\n",
       "      <td>75</td>\n",
       "      <td>0.0</td>\n",
       "      <td>NONE</td>\n",
       "      <td>False</td>\n",
       "      <td>UNKNOWN</td>\n",
       "      <td>U</td>\n",
       "      <td>UNKNOWN</td>\n",
       "      <td>25-44</td>\n",
       "      <td>...</td>\n",
       "      <td>176228</td>\n",
       "      <td>40.650332</td>\n",
       "      <td>-73.884529</td>\n",
       "      <td>POINT (-73.884529479 40.65033205800006)</td>\n",
       "      <td>2007</td>\n",
       "      <td>5</td>\n",
       "      <td>18</td>\n",
       "      <td>Friday</td>\n",
       "      <td>23</td>\n",
       "      <td>00</td>\n",
       "    </tr>\n",
       "    <tr>\n",
       "      <th>3</th>\n",
       "      <td>85180336</td>\n",
       "      <td>BROOKLYN</td>\n",
       "      <td>81</td>\n",
       "      <td>0.0</td>\n",
       "      <td>NONE</td>\n",
       "      <td>False</td>\n",
       "      <td>UNKNOWN</td>\n",
       "      <td>U</td>\n",
       "      <td>UNKNOWN</td>\n",
       "      <td>25-44</td>\n",
       "      <td>...</td>\n",
       "      <td>188673</td>\n",
       "      <td>40.684523</td>\n",
       "      <td>-73.923032</td>\n",
       "      <td>POINT (-73.92303235699995 40.68452304300007)</td>\n",
       "      <td>2012</td>\n",
       "      <td>6</td>\n",
       "      <td>9</td>\n",
       "      <td>Saturday</td>\n",
       "      <td>17</td>\n",
       "      <td>15</td>\n",
       "    </tr>\n",
       "    <tr>\n",
       "      <th>5</th>\n",
       "      <td>33397043</td>\n",
       "      <td>QUEENS</td>\n",
       "      <td>110</td>\n",
       "      <td>0.0</td>\n",
       "      <td>NONE</td>\n",
       "      <td>False</td>\n",
       "      <td>UNKNOWN</td>\n",
       "      <td>U</td>\n",
       "      <td>UNKNOWN</td>\n",
       "      <td>18-24</td>\n",
       "      <td>...</td>\n",
       "      <td>210428</td>\n",
       "      <td>40.744204</td>\n",
       "      <td>-73.885608</td>\n",
       "      <td>POINT (-73.88560822899994 40.74420426600005)</td>\n",
       "      <td>2007</td>\n",
       "      <td>7</td>\n",
       "      <td>26</td>\n",
       "      <td>Thursday</td>\n",
       "      <td>23</td>\n",
       "      <td>05</td>\n",
       "    </tr>\n",
       "  </tbody>\n",
       "</table>\n",
       "<p>5 rows × 23 columns</p>\n",
       "</div>"
      ],
      "text/plain": [
       "   INCIDENT_KEY      BORO  PRECINCT  JURISDICTION_CODE LOCATION_DESC  \\\n",
       "0      74146165    QUEENS       113                0.0          NONE   \n",
       "1      66928846  BROOKLYN        67                0.0          NONE   \n",
       "2      29114164  BROOKLYN        75                0.0          NONE   \n",
       "3      85180336  BROOKLYN        81                0.0          NONE   \n",
       "5      33397043    QUEENS       110                0.0          NONE   \n",
       "\n",
       "   STATISTICAL_MURDER_FLAG PERP_AGE_GROUP PERP_SEX PERP_RACE VIC_AGE_GROUP  \\\n",
       "0                    False        UNKNOWN        U   UNKNOWN         25-44   \n",
       "1                     True        UNKNOWN        U   UNKNOWN         45-64   \n",
       "2                    False        UNKNOWN        U   UNKNOWN         25-44   \n",
       "3                    False        UNKNOWN        U   UNKNOWN         25-44   \n",
       "5                    False        UNKNOWN        U   UNKNOWN         18-24   \n",
       "\n",
       "   ... Y_COORD_CD   Latitude  Longitude  \\\n",
       "0  ...     183057  40.668915 -73.775341   \n",
       "1  ...     176413  40.650877 -73.931302   \n",
       "2  ...     176228  40.650332 -73.884529   \n",
       "3  ...     188673  40.684523 -73.923032   \n",
       "5  ...     210428  40.744204 -73.885608   \n",
       "\n",
       "                                        Lon_Lat  year  month day  day_of_week  \\\n",
       "0  POINT (-73.77534099699994 40.66891477200004)  2010      8  14     Saturday   \n",
       "1  POINT (-73.93130224699998 40.65087729100002)  2009     10  17     Saturday   \n",
       "2       POINT (-73.884529479 40.65033205800006)  2007      5  18       Friday   \n",
       "3  POINT (-73.92303235699995 40.68452304300007)  2012      6   9     Saturday   \n",
       "5  POINT (-73.88560822899994 40.74420426600005)  2007      7  26     Thursday   \n",
       "\n",
       "   hour  minutes  \n",
       "0    03       11  \n",
       "1    18       03  \n",
       "2    23       00  \n",
       "3    17       15  \n",
       "5    23       05  \n",
       "\n",
       "[5 rows x 23 columns]"
      ]
     },
     "execution_count": 61,
     "metadata": {},
     "output_type": "execute_result"
    }
   ],
   "source": [
    "dfi.head()"
   ]
  },
  {
   "cell_type": "code",
   "execution_count": 62,
   "metadata": {},
   "outputs": [
    {
     "data": {
      "text/plain": [
       "(18190, 23)"
      ]
     },
     "execution_count": 62,
     "metadata": {},
     "output_type": "execute_result"
    }
   ],
   "source": [
    "dfi.shape"
   ]
  },
  {
   "cell_type": "markdown",
   "metadata": {},
   "source": [
    "Let's do some very high level data analysis by counting the number of incidents in each boro and precinct. "
   ]
  },
  {
   "cell_type": "code",
   "execution_count": 63,
   "metadata": {},
   "outputs": [
    {
     "data": {
      "text/plain": [
       "<AxesSubplot:xlabel='BORO', ylabel='count'>"
      ]
     },
     "execution_count": 63,
     "metadata": {},
     "output_type": "execute_result"
    },
    {
     "data": {
      "image/png": "[encoded data removed]",
      "text/plain": [
       "<Figure size 864x432 with 1 Axes>"
      ]
     },
     "metadata": {
      "needs_background": "light"
     },
     "output_type": "display_data"
    }
   ],
   "source": [
    "plt.figure(figsize=(12,6))\n",
    "sns.countplot(x = 'BORO', data = dfi)"
   ]
  },
  {
   "cell_type": "code",
   "execution_count": 64,
   "metadata": {},
   "outputs": [
    {
     "data": {
      "text/plain": [
       "<AxesSubplot:xlabel='PRECINCT', ylabel='count'>"
      ]
     },
     "execution_count": 64,
     "metadata": {},
     "output_type": "execute_result"
    },
    {
     "data": {
      "image/png": "[encoded data removed]",
      "text/plain": [
       "<Figure size 2880x576 with 1 Axes>"
      ]
     },
     "metadata": {
      "needs_background": "light"
     },
     "output_type": "display_data"
    }
   ],
   "source": [
    "plt.figure(figsize=(40,8))\n",
    "sns.countplot(x = 'PRECINCT', data = dfi)"
   ]
  },
  {
   "cell_type": "markdown",
   "metadata": {},
   "source": [
    "Let's plot subplots of year, month and day of the week to check the trends in the data."
   ]
  },
  {
   "cell_type": "code",
   "execution_count": 65,
   "metadata": {
    "scrolled": true
   },
   "outputs": [
    {
     "data": {
      "text/plain": [
       "<AxesSubplot:xlabel='day_of_week', ylabel='count'>"
      ]
     },
     "execution_count": 65,
     "metadata": {},
     "output_type": "execute_result"
    },
    {
     "data": {
      "image/png": "[encoded data removed]",
      "text/plain": [
       "<Figure size 1800x360 with 3 Axes>"
      ]
     },
     "metadata": {
      "needs_background": "light"
     },
     "output_type": "display_data"
    }
   ],
   "source": [
    "fig, axes = plt.subplots(1, 3, figsize = (25,5), sharey = True)\n",
    "sns.countplot(x = 'year', data = dfi, ax = axes[0])\n",
    "sns.countplot(x = 'month', data = dfi, ax = axes[1])\n",
    "sns.countplot(x = 'day_of_week', data = dfi, ax = axes[2])"
   ]
  },
  {
   "cell_type": "markdown",
   "metadata": {},
   "source": [
    "The y-o-y numbers have gone dowm from 2006 until 2019 but has risen in 2020, and it can be seen that most incidents occur in the summer(June, July, August) and on weekends (Saturday and Sunday)."
   ]
  },
  {
   "cell_type": "code",
   "execution_count": 66,
   "metadata": {},
   "outputs": [
    {
     "name": "stdout",
     "output_type": "stream",
     "text": [
      "<class 'pandas.core.frame.DataFrame'>\n",
      "Int64Index: 23123 entries, 0 to 1500\n",
      "Data columns (total 23 columns):\n",
      " #   Column                   Non-Null Count  Dtype  \n",
      "---  ------                   --------------  -----  \n",
      " 0   INCIDENT_KEY             23123 non-null  int64  \n",
      " 1   BORO                     23123 non-null  object \n",
      " 2   PRECINCT                 23123 non-null  int64  \n",
      " 3   JURISDICTION_CODE        23121 non-null  float64\n",
      " 4   LOCATION_DESC            23123 non-null  object \n",
      " 5   STATISTICAL_MURDER_FLAG  23123 non-null  bool   \n",
      " 6   PERP_AGE_GROUP           23123 non-null  object \n",
      " 7   PERP_SEX                 23123 non-null  object \n",
      " 8   PERP_RACE                23123 non-null  object \n",
      " 9   VIC_AGE_GROUP            23123 non-null  object \n",
      " 10  VIC_SEX                  23123 non-null  object \n",
      " 11  VIC_RACE                 23123 non-null  object \n",
      " 12  X_COORD_CD               23123 non-null  object \n",
      " 13  Y_COORD_CD               23123 non-null  object \n",
      " 14  Latitude                 23123 non-null  float64\n",
      " 15  Longitude                23123 non-null  float64\n",
      " 16  Lon_Lat                  23123 non-null  object \n",
      " 17  year                     23123 non-null  int64  \n",
      " 18  month                    23123 non-null  int64  \n",
      " 19  day                      23123 non-null  int64  \n",
      " 20  day_of_week              23123 non-null  object \n",
      " 21  hour                     23123 non-null  object \n",
      " 22  minutes                  23123 non-null  object \n",
      "dtypes: bool(1), float64(3), int64(5), object(14)\n",
      "memory usage: 4.1+ MB\n"
     ]
    }
   ],
   "source": [
    "df.info()"
   ]
  },
  {
   "cell_type": "code",
   "execution_count": 67,
   "metadata": {},
   "outputs": [],
   "source": [
    "df = df.astype({ \"hour\": int, \"minutes\": int})\n",
    "dfi = dfi.astype({ \"hour\": int, \"minutes\": int})"
   ]
  },
  {
   "cell_type": "code",
   "execution_count": 85,
   "metadata": {
    "scrolled": false
   },
   "outputs": [
    {
     "data": {
      "text/plain": [
       "<AxesSubplot:xlabel='VIC_AGE_GROUP', ylabel='count'>"
      ]
     },
     "execution_count": 85,
     "metadata": {},
     "output_type": "execute_result"
    },
    {
     "data": {
      "image/png": "[encoded data removed]",
      "text/plain": [
       "<Figure size 1800x360 with 2 Axes>"
      ]
     },
     "metadata": {
      "needs_background": "light"
     },
     "output_type": "display_data"
    }
   ],
   "source": [
    "fig, axes = plt.subplots(1, 2, figsize = (25,5), sharey = True)\n",
    "sns.countplot(x = 'PERP_AGE_GROUP', data = df, ax = axes[0])\n",
    "sns.countplot(x = 'VIC_AGE_GROUP', data = df, ax = axes[1])"
   ]
  },
  {
   "cell_type": "markdown",
   "metadata": {},
   "source": [
    "There are a lot of unknowns here which is understandable since it can be unclear as to who was the perpetrator. The unknown count is very less for victims, since the cops can ID the victim and get the age once they have identified them."
   ]
  },
  {
   "cell_type": "code",
   "execution_count": 71,
   "metadata": {},
   "outputs": [],
   "source": [
    "#Using Chi Squared test of independence to test the correlation between features\n",
    "\n",
    "from scipy.stats import chi2_contingency\n",
    "\n",
    "def chisq_of_df_cols(df, c1, c2):\n",
    "    groupsizes = df.groupby([c1, c2]).size()\n",
    "    ctsum = groupsizes.unstack(c1)\n",
    "    # fillna(0) is necessary to remove any NAs which will cause exceptions\n",
    "    return(chi2_contingency(ctsum.fillna(0)))"
   ]
  },
  {
   "cell_type": "code",
   "execution_count": 72,
   "metadata": {},
   "outputs": [
    {
     "data": {
      "text/plain": [
       "(2204.120656086163,\n",
       " 0.0,\n",
       " 25,\n",
       " array([[2.05692834e+03, 1.73307806e+03, 1.79746486e+02, 2.06957575e+01,\n",
       "         5.15477663e+02, 4.35607369e+03],\n",
       "        [2.33359936e+03, 1.96618899e+03, 2.03923626e+02, 2.34794793e+01,\n",
       "         5.84812957e+02, 4.94199559e+03],\n",
       "        [3.48856161e+02, 2.93930978e+02, 3.04851014e+01, 3.51001168e+00,\n",
       "         8.74252908e+01, 7.38792458e+02],\n",
       "        [3.52801972e+01, 2.97255546e+01, 3.08299096e+00, 3.54971241e-01,\n",
       "         8.84141331e+00, 7.47148726e+01],\n",
       "        [5.77945336e+02, 4.86951520e+02, 5.05042598e+01, 5.81498940e+00,\n",
       "         1.44836310e+02, 1.22394758e+03],\n",
       "        [1.43906068e+01, 1.21248973e+01, 1.25753579e+00, 1.44790901e-01,\n",
       "         3.60636596e+00, 3.04758033e+01]]))"
      ]
     },
     "execution_count": 72,
     "metadata": {},
     "output_type": "execute_result"
    }
   ],
   "source": [
    "chisq_of_df_cols(df, 'PERP_AGE_GROUP','VIC_AGE_GROUP')"
   ]
  },
  {
   "cell_type": "code",
   "execution_count": 73,
   "metadata": {
    "scrolled": true
   },
   "outputs": [
    {
     "data": {
      "text/plain": [
       "(84.53225719814883,\n",
       " 1.906345505323837e-17,\n",
       " 4,\n",
       " array([[3.06618951e+01, 1.22218873e+03, 9.02149375e+02],\n",
       "        [2.98081996e+02, 1.18816027e+04, 8.77031527e+03],\n",
       "        [2.56108636e-01, 1.02085370e+01, 7.53535441e+00]]))"
      ]
     },
     "execution_count": 73,
     "metadata": {},
     "output_type": "execute_result"
    }
   ],
   "source": [
    "chisq_of_df_cols(df, 'PERP_SEX','VIC_SEX')"
   ]
  },
  {
   "cell_type": "markdown",
   "metadata": {},
   "source": [
    "Since the p-value of perpetrator's age and victim's age is 0, we can infer that they are correlated. So let's plot a graph and see what we can find out from the data."
   ]
  },
  {
   "cell_type": "code",
   "execution_count": 76,
   "metadata": {},
   "outputs": [
    {
     "data": {
      "text/plain": [
       "<AxesSubplot:xlabel='VIC_AGE_GROUP', ylabel='count'>"
      ]
     },
     "execution_count": 76,
     "metadata": {},
     "output_type": "execute_result"
    },
    {
     "data": {
      "image/png": "[encoded data removed]",
      "text/plain": [
       "<Figure size 432x288 with 1 Axes>"
      ]
     },
     "metadata": {
      "needs_background": "light"
     },
     "output_type": "display_data"
    }
   ],
   "source": [
    "#Counting the number of incidents by Perpetrator age group on each on victim age group\n",
    "sns.countplot(x = 'VIC_AGE_GROUP',hue = 'PERP_AGE_GROUP', data = df)"
   ]
  },
  {
   "cell_type": "markdown",
   "metadata": {},
   "source": [
    "It can be observed that the age of the perpetrator and victim is usually in the same range. For example, the victim's age group\n",
    "of 25-44 years, the maximum shooting incidents where done by the perpetrators in the age group of 25-44. Same is the case with\n",
    "the age groups of 18-24 (ignoring the unknown age group)"
   ]
  },
  {
   "cell_type": "code",
   "execution_count": 86,
   "metadata": {},
   "outputs": [
    {
     "data": {
      "text/plain": [
       "<AxesSubplot:xlabel='VIC_SEX', ylabel='count'>"
      ]
     },
     "execution_count": 86,
     "metadata": {},
     "output_type": "execute_result"
    },
    {
     "data": {
      "image/png": "[encoded data removed]",
      "text/plain": [
       "<Figure size 1800x360 with 2 Axes>"
      ]
     },
     "metadata": {
      "needs_background": "light"
     },
     "output_type": "display_data"
    }
   ],
   "source": [
    "#Let's count the number of incidents by the sex of the perpetrator and victim\n",
    "fig, axes = plt.subplots(1, 2, figsize = (25,5), sharey = True)\n",
    "sns.countplot(x = 'PERP_SEX', data = df, ax = axes[0])\n",
    "sns.countplot(x = 'VIC_SEX', data = df, ax = axes[1])"
   ]
  },
  {
   "cell_type": "markdown",
   "metadata": {},
   "source": [
    "Most of the perpetrators involved in these shooting incidents have been males(again ignoring the unknown) and most majority of the victims have been males as well. One can also see that the female count in prepetrator is much less than in victims. "
   ]
  },
  {
   "cell_type": "code",
   "execution_count": 99,
   "metadata": {},
   "outputs": [
    {
     "data": {
      "text/plain": [
       "<matplotlib.legend.Legend at 0x2552698a490>"
      ]
     },
     "execution_count": 99,
     "metadata": {},
     "output_type": "execute_result"
    },
    {
     "data": {
      "image/png": "[encoded data removed]",
      "text/plain": [
       "<Figure size 1440x720 with 1 Axes>"
      ]
     },
     "metadata": {
      "needs_background": "light"
     },
     "output_type": "display_data"
    }
   ],
   "source": [
    "#Plotting victim race against perp race to see which race is involved more\n",
    "plt.figure(figsize=(20,10))\n",
    "sns.countplot(x = 'VIC_RACE',hue = 'PERP_RACE', data = df)\n",
    "plt.legend(loc = 'upper right')"
   ]
  },
  {
   "cell_type": "markdown",
   "metadata": {},
   "source": [
    "It can be seen that the race of people involved in these incidents is mostly Black, followed by Hispanics(both victims and\n",
    "perpetrators)"
   ]
  },
  {
   "cell_type": "code",
   "execution_count": 83,
   "metadata": {},
   "outputs": [],
   "source": [
    "#Data preparation for visualizing number of incidents based on the hour and day of the week\n",
    "dft = dfi.groupby(by = [dfi['hour'],dfi['day_of_week']])['INCIDENT_KEY'].count().rename('Counts').to_frame()"
   ]
  },
  {
   "cell_type": "code",
   "execution_count": 84,
   "metadata": {
    "scrolled": false
   },
   "outputs": [
    {
     "data": {
      "text/plain": [
       "<AxesSubplot:xlabel='hour', ylabel='Counts'>"
      ]
     },
     "execution_count": 84,
     "metadata": {},
     "output_type": "execute_result"
    },
    {
     "data": {
      "image/png": "[encoded data removed]",
      "text/plain": [
       "<Figure size 864x576 with 1 Axes>"
      ]
     },
     "metadata": {
      "needs_background": "light"
     },
     "output_type": "display_data"
    }
   ],
   "source": [
    "#plotting the data\n",
    "plt.figure(figsize = (12,8))\n",
    "sns.lineplot( x = 'hour', y = 'Counts' , data = dft, hue = 'day_of_week')"
   ]
  },
  {
   "cell_type": "markdown",
   "metadata": {},
   "source": [
    "Most number of incidents happen on the weekends looking at the graph above. It is almost twice the number that happen on weekdays."
   ]
  },
  {
   "cell_type": "markdown",
   "metadata": {},
   "source": [
    "Observations:\n",
    "1. There was a downward trend of the number of shootings each year until 2019 and they rose again in 2020\n",
    "2. The most number of shooting incidents happen in the summer usually in June, July, August and September months.\n",
    "3. Most of them happen on during the hours from 2200 to 0040 on Friday leading into Saturday and on Saturday leading into Sunday. So it is safe to say that most of them happen on weekends.\n",
    "4. Most of the people involved in shooting incidents are Black by race followed by Hispanics.\n",
    "5. More than 90% of the people involved in shooting incidents are males\n",
    "6. Most affected people are in the age group of 18 to 44 years. Perpetrators are more likely to shoot people in their own age group."
   ]
  },
  {
   "cell_type": "markdown",
   "metadata": {},
   "source": [
    "Recommendations:\n",
    "\n",
    "1. Additional legislature could be passed to make gun control more effective, stricter screening measures would certainly help.\n",
    "2. Additional security resources and measurements to tackle and prevent such incidents especially in the boroughs with high        incident rate (Bronx and Brooklyn) and between 1200 to 0400 hours in places such as clubs and restaurants that are open late\n",
    "   in the night.\n",
    "3. Police department can hire more personnels to take night shifts on weekends during the months of May to August. They can\n",
    "   start by focussing on precinct 73 and 75 where the incident rates are highest.\n",
    "4. Even though causation cannot be outrightly implied, underlying issues like education, low household income, ratio of minimum    wage to cost of living, increase in unemployment rates would need to be addressed.\n",
    "5. Based on the age group of the perpetrators and the predominant gender and race, empowerment programs such as scholarship,      mentorship, job creation, higher education awareness, workshops can be targetted towards this specific group."
   ]
  },
  {
   "cell_type": "code",
   "execution_count": null,
   "metadata": {},
   "outputs": [],
   "source": []
  }
 ],
 "metadata": {
  "kernelspec": {
   "display_name": "Python 3",
   "language": "python",
   "name": "python3"
  },
  "language_info": {
   "codemirror_mode": {
    "name": "ipython",
    "version": 3
   },
   "file_extension": ".py",
   "mimetype": "text/x-python",
   "name": "python",
   "nbconvert_exporter": "python",
   "pygments_lexer": "ipython3",
   "version": "3.8.5"
  }
 },
 "nbformat": 4,
 "nbformat_minor": 4
}
